{
 "cells": [
  {
   "cell_type": "code",
   "execution_count": 1,
   "metadata": {},
   "outputs": [],
   "source": [
    "import logging\n",
    "import boto3\n",
    "import os\n",
    "import json\n",
    "import time\n",
    "import zipfile\n",
    "import subprocess\n",
    "from textwrap import dedent"
   ]
  },
  {
   "cell_type": "code",
   "execution_count": 2,
   "metadata": {},
   "outputs": [],
   "source": [
    "# -----------------------------------------------------------------------------\n",
    "# Configure Logging\n",
    "# -----------------------------------------------------------------------------\n",
    "logging.basicConfig(\n",
    "    level=logging.INFO,\n",
    "    format=\"%(asctime)s - %(name)s - %(levelname)s - %(message)s\"\n",
    ")\n",
    "logger = logging.getLogger(__name__)"
   ]
  },
  {
   "cell_type": "code",
   "execution_count": 3,
   "metadata": {},
   "outputs": [
    {
     "name": "stderr",
     "output_type": "stream",
     "text": [
      "2025-02-09 17:49:11,217 - botocore.credentials - INFO - Found credentials in shared credentials file: ~/.aws/credentials\n"
     ]
    },
    {
     "name": "stdout",
     "output_type": "stream",
     "text": [
      "boto3 version: 1.36.9\n"
     ]
    }
   ],
   "source": [
    "from src.utils.bedrock_agent import Agent, SupervisorAgent, agents_helper, region, account_id"
   ]
  },
  {
   "cell_type": "code",
   "execution_count": 4,
   "metadata": {},
   "outputs": [
    {
     "name": "stderr",
     "output_type": "stream",
     "text": [
      "2025-02-09 17:49:12,694 - __main__ - INFO - Region: us-west-2\n",
      "2025-02-09 17:49:12,694 - __main__ - INFO - Account ID: 533267284022\n",
      "2025-02-09 17:49:12,695 - __main__ - INFO - Agent Suffix: us-west-2-533\n"
     ]
    }
   ],
   "source": [
    "sts_client = boto3.client('sts')\n",
    "session = boto3.session.Session()\n",
    "\n",
    "account_id = sts_client.get_caller_identity()[\"Account\"]\n",
    "region = session.region_name\n",
    "account_id_suffix = account_id[:3]\n",
    "agent_suffix = f\"{region}-{account_id_suffix}\"\n",
    "\n",
    "s3_client = boto3.client('s3', region_name=region)\n",
    "bedrock_client = boto3.client('bedrock-runtime', region_name=region)\n",
    "iam_client = boto3.client('iam', region_name=region)\n",
    "lambda_client = boto3.client('lambda', region_name=region)\n",
    "\n",
    "logger.info(f\"Region: {region}\")\n",
    "logger.info(f\"Account ID: {account_id}\")\n",
    "logger.info(f\"Agent Suffix: {agent_suffix}\")\n"
   ]
  },
  {
   "cell_type": "code",
   "execution_count": 16,
   "metadata": {},
   "outputs": [],
   "source": [
    "# Agent foundation model \n",
    "agent_foundation_model = [\n",
    "    # \"anthropic.claude-3-5-sonnet-20241022-v2:0\"\n",
    "    \"us.amazon.nova-lite-v1:0\"\n",
    "]\n",
    "\n",
    "# Force re-create default setting for Agent objects, but for now set to False\n",
    "Agent.set_force_recreate_default(True)"
   ]
  },
  {
   "cell_type": "code",
   "execution_count": 17,
   "metadata": {},
   "outputs": [],
   "source": [
    "reasoning_query_lambda_arn = \"arn:aws:lambda:us-west-2:533267284022:function:lambda-to-invoke-deepseek-r1-distilled-model\""
   ]
  },
  {
   "cell_type": "code",
   "execution_count": 18,
   "metadata": {},
   "outputs": [
    {
     "name": "stdout",
     "output_type": "stream",
     "text": [
      "\n",
      "Deleting existing agent and corresponding lambda for: deepseek-agent-us-west-2-533...\n",
      "Agent deepseek-agent-us-west-2-533 not found\n",
      "Creating agent deepseek-agent-us-west-2-533...\n",
      "Created agent, id: RMXZVL9BRC, alias id: TSTALIASID\n",
      "\n",
      "Adding action group with Lambda: arn:aws:lambda:us-west-2:533267284022:function:lambda-to-invoke-deepseek-r1-distilled-model...\n",
      "Waiting for agent status to change. Current status CREATING\n",
      "Agent id RMXZVL9BRC current status: NOT_PREPARED\n",
      "Waiting for agent status to change. Current status VERSIONING\n",
      "Agent id RMXZVL9BRC current status: PREPARED\n",
      "DONE: Agent: deepseek-agent-us-west-2-533, id: RMXZVL9BRC, alias id: JMSVNYPJ8M\n",
      "\n"
     ]
    }
   ],
   "source": [
    "reasoning_agent = Agent.direct_create(\n",
    "    name=f\"deepseek-agent-{agent_suffix}\",\n",
    "    role=\"Reasoning Specialist\",\n",
    "    goal=\"Analyze complex scenarios and provide well-reasoned answers\",\n",
    "    instructions=\"\"\"\n",
    "    You are a reasoning specialist tasked with analyzing complex scenarios and providing well-reasoned answers.\n",
    "\n",
    "    ## Output Format:\n",
    "    - Explain your reasoning and thought process in a <reasoning>...</reasoning> block\n",
    "    - Include any assumptions made in your analysis in a <assumptions>...</assumptions> block\n",
    "    \"\"\",\n",
    "    tool_code=reasoning_query_lambda_arn,\n",
    "    tool_defs=[\n",
    "        {\n",
    "            \"name\": \"execute_reasoning\",\n",
    "            \"description\": \"Executes a reasoning model to analyze complex scenarios\",\n",
    "            \"parameters\": {\n",
    "                \"scenario\": {\n",
    "                    \"description\": \"The scenario to analyze\",\n",
    "                    \"type\": \"string\",\n",
    "                    \"required\": True\n",
    "                }\n",
    "            }\n",
    "        }\n",
    "    ]\n",
    "\n",
    ")"
   ]
  },
  {
   "cell_type": "code",
   "execution_count": 29,
   "metadata": {},
   "outputs": [],
   "source": [
    "REASONING_QUERY_LAMBDA_NAME = \"lambda-to-invoke-deepseek-r1-distilled-model\"\n",
    "reasoning_agent_id = agents_helper.get_agent_id_by_name(reasoning_agent.name)"
   ]
  },
  {
   "cell_type": "code",
   "execution_count": 25,
   "metadata": {},
   "outputs": [],
   "source": [
    "\n",
    "def add_resource_based_policy(function_name: str,\n",
    "                              agent_ids: list,\n",
    "                              region_name: str,\n",
    "                              account_id: str):\n",
    "    \"\"\"\n",
    "    Adds a resource-based policy to the specified Lambda function to allow invocation\n",
    "    from one or more Bedrock agents.\n",
    "\n",
    "    :param function_name: Name of the Lambda function.\n",
    "    :param agent_ids: List of agent IDs permitted to invoke this Lambda.\n",
    "    :param region_name: AWS region.\n",
    "    :param account_id: AWS account ID.\n",
    "    \"\"\"\n",
    "    logger.info(f\"Adding resource-based policy to Lambda function {function_name} for agents: {agent_ids}\")\n",
    "    statement_id_prefix = \"AllowExecutionFromBedrockAgent\"\n",
    "    policy_doc = {\n",
    "        \"Version\": \"2012-10-17\",\n",
    "        \"Statement\": []\n",
    "    }\n",
    "\n",
    "    for agent_id in agent_ids:\n",
    "        sid = f\"{statement_id_prefix}_{agent_id}\"\n",
    "        policy_doc['Statement'].append({\n",
    "            \"Sid\": sid,\n",
    "            \"Effect\": \"Allow\",\n",
    "            \"Principal\": {\n",
    "                \"Service\": \"bedrock.amazonaws.com\"\n",
    "            },\n",
    "            \"Action\": \"lambda:InvokeFunction\",\n",
    "            \"Resource\": f\"arn:aws:lambda:{region_name}:{account_id}:function:{function_name}\",\n",
    "            \"Condition\": {\n",
    "                \"ArnLike\": {\n",
    "                    \"AWS:SourceArn\": f\"arn:aws:bedrock:{region_name}:{account_id}:agent/{agent_id}\"\n",
    "                }\n",
    "            }\n",
    "        })\n",
    "\n",
    "    # Retrieve existing policy and remove any existing statements with the same prefix\n",
    "    try:\n",
    "        existing_policy = lambda_client.get_policy(FunctionName=function_name)\n",
    "        existing_policy_doc = json.loads(existing_policy['Policy'])\n",
    "        for stmt in existing_policy_doc['Statement']:\n",
    "            if stmt['Sid'].startswith(statement_id_prefix):\n",
    "                sid_to_remove = stmt['Sid']\n",
    "                logger.info(f\"Removing existing statement: {sid_to_remove}\")\n",
    "                lambda_client.remove_permission(\n",
    "                    FunctionName=function_name,\n",
    "                    StatementId=sid_to_remove\n",
    "                )\n",
    "    except lambda_client.exceptions.ResourceNotFoundException:\n",
    "        logger.info(f\"No existing policy found for Lambda function {function_name}.\")\n",
    "    except Exception as e:\n",
    "        logger.error(f\"Error retrieving/removing existing policy for {function_name}: {str(e)}\")\n",
    "\n",
    "    # Add new permissions\n",
    "    for stmt in policy_doc['Statement']:\n",
    "        sid_val = stmt['Sid']\n",
    "        try:\n",
    "            lambda_client.add_permission(\n",
    "                FunctionName=function_name,\n",
    "                StatementId=sid_val,\n",
    "                Action=stmt['Action'],\n",
    "                Principal=stmt['Principal']['Service'],\n",
    "                SourceArn=stmt['Condition']['ArnLike']['AWS:SourceArn']\n",
    "            )\n",
    "            logger.info(f\"Added permission for statement: {sid_val}\")\n",
    "        except Exception as e:\n",
    "            logger.error(f\"Failed to add resource-based policy for {function_name}, statement {sid_val}: {str(e)}\")"
   ]
  },
  {
   "cell_type": "code",
   "execution_count": 26,
   "metadata": {},
   "outputs": [
    {
     "name": "stderr",
     "output_type": "stream",
     "text": [
      "2025-02-10 09:05:09,389 - __main__ - INFO - Adding resource-based policy to Lambda function lambda-to-invoke-deepseek-r1-distilled-model for agents: ['RMXZVL9BRC']\n",
      "2025-02-10 09:05:09,439 - __main__ - INFO - Removing existing statement: AllowExecutionFromBedrockAgent_RMXZVL9BRC\n",
      "2025-02-10 09:05:09,602 - __main__ - INFO - Added permission for statement: AllowExecutionFromBedrockAgent_RMXZVL9BRC\n"
     ]
    }
   ],
   "source": [
    "add_resource_based_policy(REASONING_QUERY_LAMBDA_NAME, [reasoning_agent_id], region, account_id)"
   ]
  },
  {
   "cell_type": "code",
   "execution_count": 27,
   "metadata": {},
   "outputs": [],
   "source": [
    "user_query = \"What is the best way to reduce carbon emissions?\""
   ]
  },
  {
   "cell_type": "code",
   "execution_count": 30,
   "metadata": {},
   "outputs": [
    {
     "name": "stdout",
     "output_type": "stream",
     "text": [
      "invokeAgent API request ID: 686577e4-7a2e-4c88-8c69-217f0067a28e\n",
      "invokeAgent API session ID: 85282b44d3d647eb91a45d29b3d5f79f\n",
      "  agent id: RMXZVL9BRC, agent alias id: TSTALIASID\n",
      "\u001b[32m---- Step 1 ----\u001b[0m\n",
      "\u001b[33mTook 3.8s, using 835 tokens (in: 687, out: 148) to complete prior action, observe, orchestrate.\u001b[0m\n",
      "\u001b[34mTo answer this question about reducing carbon emissions, I'll need to analyze the complex scenario of global carbon emissions and potential reduction strategies. I'll use the reasoning model to help provide a well-reasoned answer.\u001b[0m\n",
      "\u001b[35mUsing tool: execute_reasoning with these inputs:\u001b[0m\n",
      "\u001b[35m[{'name': 'scenario', 'type': 'string', 'value': 'What are the most effective strategies for reducing carbon emissions on a global scale, considering various sectors such as energy, transportation, industry, and agriculture?'}]\n",
      "\u001b[0m\n",
      "\u001b[35m--tool outputs:\n",
      "{'TEXT': {'body': {'generation': \"What are the most effective strategies for reducing carbon emissions on a global scale, considering various sectors such as energy, transportation, industry, and agriculture?Okay, so I need to figure out the most effective strategies for reducing carbon emissions on...\n",
      "\u001b[0m\n",
      "\u001b[32m---- Step 2 ----\u001b[0m\n",
      "\u001b[33mTook 132.4s, using 4754 tokens (in: 4480, out: 274) to complete prior action, observe, orchestrate.\u001b[0m\n",
      "\u001b[34mNow that I have the results from the reasoning model, I can provide a well-reasoned answer to the question about the best way to reduce carbon emissions. I'll synthesize the key points and present them in a concise manner.\u001b[0m\n",
      "\u001b[36mFinal response:\n",
      "The best way to reduce carbon emissions is through a comprehensive, multi-sector approach that combines technological advancements, policy changes, and behavioral shifts. Key strategies include:\n",
      "\n",
      "1. Energy sector: Transition to renewable energy sources (solar, wind, hydro) and improve energy efficie...\u001b[0m\n",
      "\u001b[33mAgent made a total of 2 LLM calls, using 5589 tokens (in: 5167, out: 422), and took 136.4 total seconds\u001b[0m\n"
     ]
    }
   ],
   "source": [
    "import uuid\n",
    "\n",
    "response = reasoning_agent.invoke(\n",
    "    input_text=user_query,\n",
    "    session_id=uuid.uuid4().hex,\n",
    "    enable_trace=True,\n",
    "    trace_level=\"core\")"
   ]
  },
  {
   "cell_type": "code",
   "execution_count": null,
   "metadata": {},
   "outputs": [],
   "source": []
  }
 ],
 "metadata": {
  "kernelspec": {
   "display_name": "genai-on-aws",
   "language": "python",
   "name": "python3"
  },
  "language_info": {
   "codemirror_mode": {
    "name": "ipython",
    "version": 3
   },
   "file_extension": ".py",
   "mimetype": "text/x-python",
   "name": "python",
   "nbconvert_exporter": "python",
   "pygments_lexer": "ipython3",
   "version": "3.12.1"
  }
 },
 "nbformat": 4,
 "nbformat_minor": 2
}
