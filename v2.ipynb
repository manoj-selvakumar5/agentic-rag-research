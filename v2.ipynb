{
 "cells": [
  {
   "cell_type": "markdown",
   "metadata": {},
   "source": [
    "# Import Required Libraries"
   ]
  },
  {
   "cell_type": "code",
   "execution_count": 30,
   "metadata": {},
   "outputs": [
    {
     "name": "stdout",
     "output_type": "stream",
     "text": [
      "AWS Region: us-east-1\n",
      "Account ID: 533267284022\n",
      "Suffix: ue1-533\n"
     ]
    }
   ],
   "source": [
    "import os\n",
    "import time\n",
    "import boto3\n",
    "import json\n",
    "import pprint\n",
    "import textwrap\n",
    "\n",
    "\n",
    "# Initialize AWS clients\n",
    "s3_client = boto3.client('s3')\n",
    "sts_client = boto3.client('sts')\n",
    "session = boto3.session.Session()\n",
    "region = session.region_name\n",
    "account_id = sts_client.get_caller_identity()[\"Account\"]\n",
    "bedrock_agent_client = boto3.client('bedrock-agent')\n",
    "bedrock_agent_runtime_client = boto3.client('bedrock-agent-runtime')\n",
    "bedrock_runtime_client = boto3.client('bedrock-runtime', region_name=region)\n",
    "\n",
    "\n",
    "account_id_suffix = account_id[:3]\n",
    "region_suffix = ''.join([word[0] for word in region.split('-')])\n",
    "suffix = f\"{region_suffix}-{account_id_suffix}\"\n",
    "\n",
    "# Define Knowledge Base parameters\n",
    "knowledge_base_name= 'fixed-size-chunk-kb'\n",
    "knowledge_base_description = \"Knowledge Base containing sample synthetic Octank financial data\"\n",
    "\n",
    "print(f\"AWS Region: {region}\", f\"Account ID: {account_id}\", f\"Suffix: {suffix}\", sep='\\n')"
   ]
  },
  {
   "cell_type": "markdown",
   "metadata": {},
   "source": [
    "# Import utility classes and functions from the utils module"
   ]
  },
  {
   "cell_type": "code",
   "execution_count": 2,
   "metadata": {},
   "outputs": [],
   "source": [
    "from utils.knowledgebase import BedrockKnowledgeBases\n",
    "from utils.agents import BedrockAgents\n",
    "from utils.agents import AWSResourceManager\n",
    "from utils.chat import BedrockChat, SyntheticDataGenerator\n",
    "from IPython.display import Markdown, display\n",
    "\n",
    "def print_markdown(text):\n",
    "    display(Markdown(text))\n",
    "\n",
    "    \n",
    "kb = BedrockKnowledgeBases()\n",
    "agents = BedrockAgents()\n",
    "chat = BedrockChat()\n",
    "data = SyntheticDataGenerator()"
   ]
  },
  {
   "cell_type": "markdown",
   "metadata": {},
   "source": [
    "# Configure Common Settings\n",
    "Define common settings such as model, num_results, etc., that will be used for both Knowledgebase and Agents."
   ]
  },
  {
   "cell_type": "code",
   "execution_count": 3,
   "metadata": {},
   "outputs": [],
   "source": [
    "foundation_model = 'anthropic.claude-3-sonnet-20240229-v1:0'  # identifier for the model that you want to be used for text generation\n",
    "embedding_model = 'amazon.titan-embed-text-v2:0'\n",
    "num_results = 5 # number of results to retrieve from knowledge base"
   ]
  },
  {
   "cell_type": "markdown",
   "metadata": {},
   "source": [
    "# Setup Knowledge Base\n",
    "\n",
    "Configure the Knowledgebase with a chunking strategy, vector database, and embedding model.\n"
   ]
  },
  {
   "cell_type": "code",
   "execution_count": 7,
   "metadata": {},
   "outputs": [
    {
     "name": "stdout",
     "output_type": "stream",
     "text": [
      "2025-01-08 22:08:28,026 [INFO] ================================================================\n",
      "2025-01-08 22:08:28,026 [INFO] Step 1: Create S3 bucket\n",
      "2025-01-08 22:08:28,027 [INFO] Creating S3 bucket: amazon-10k-kb-ue1-533-bucket\n",
      "2025-01-08 22:08:28,442 [INFO] Created S3 bucket: amazon-10k-kb-ue1-533-bucket\n",
      "2025-01-08 22:08:28,443 [INFO] ================================================================\n",
      "2025-01-08 22:08:28,444 [INFO] Step 2: Create KB execution role\n",
      "2025-01-08 22:08:28,444 [INFO] Creating Bedrock KB execution role: amazon-10k-kb-ue1-533-execution-role\n",
      "2025-01-08 22:08:29,215 [INFO] ================================================================\n",
      "2025-01-08 22:08:29,215 [INFO] Step 3: Create AOSS encryption/network/access policies\n",
      "2025-01-08 22:08:29,216 [INFO] Creating encryption, network, and access policies for azon-10k-kb-ue1-533-vector-store\n",
      "2025-01-08 22:08:29,702 [INFO] Created AOSS policies: b-ue1-533-vector-store-en-policy, b-ue1-533-vector-store-ne-policy, b-ue1-533-vector-store-ac-policy\n",
      "2025-01-08 22:08:29,703 [INFO] ================================================================\n",
      "2025-01-08 22:08:29,703 [INFO] Step 4: Create AOSS collection\n",
      "2025-01-08 22:08:29,704 [INFO] Creating AOSS collection: azon-10k-kb-ue1-533-vector-store\n",
      "2025-01-08 22:08:30,094 [INFO] Collection is still creating, waiting 60 seconds...\n",
      "............................................................\n",
      "2025-01-08 22:09:30,479 [INFO] Collection is still creating, waiting 60 seconds...\n",
      "............................................................\n",
      "2025-01-08 22:10:30,910 [INFO] Collection is still creating, waiting 60 seconds...\n",
      "............................................................\n",
      "2025-01-08 22:11:31,299 [INFO] Collection is still creating, waiting 60 seconds...\n",
      "............................................................\n",
      "2025-01-08 22:12:31,683 [INFO] Collection is still creating, waiting 60 seconds...\n",
      "............................................................\n",
      "2025-01-08 22:13:32,055 [INFO] Collection is still creating, waiting 60 seconds...\n",
      "............................................................\n",
      "2025-01-08 22:14:32,424 [INFO] Collection is active\n",
      "2025-01-08 22:14:32,952 [INFO] Successfully attached AOSS policy to amazon-10k-kb-ue1-533-execution-role\n",
      "2025-01-08 22:14:32,954 [INFO] Sleeping 60 seconds to allow AOSS policy to propagate\n",
      "............................................................\n",
      "2025-01-08 22:15:33,216 [INFO] ================================================================\n",
      "2025-01-08 22:15:33,216 [INFO] Step 5: Initialize OpenSearch client and create index\n",
      "2025-01-08 22:15:33,217 [INFO] Initialized OpenSearch client\n",
      "2025-01-08 22:15:33,217 [INFO] Creating index: azon-10k-kb-ue1-533-vector-store-index\n",
      "2025-01-08 22:15:33,966 [INFO] Create index response: {'acknowledged': True, 'shards_acknowledged': True, 'index': 'azon-10k-kb-ue1-533-vector-store-index'}\n",
      "............................................................\n",
      "2025-01-08 22:16:34,241 [INFO] ================================================================\n",
      "2025-01-08 22:16:34,242 [INFO] Step 6: Create Bedrock KB and data source\n",
      "2025-01-08 22:16:34,242 [INFO] Creating Bedrock Knowledge Base: amazon-10k-kb\n",
      "2025-01-08 22:16:34,243 [INFO] Building config for OpenSearch Serverless with arn:aws:aoss:us-east-1:533267284022:collection/8ou90y8obo4kszh2vj66, azon-10k-kb-ue1-533-vector-store-index\n",
      "2025-01-08 22:16:35,412 [INFO] Created KB: {'createdAt': datetime.datetime(2025, 1, 9, 6, 16, 34, 605354, tzinfo=tzutc()), 'description': 'Knowledge Base containing Amazon 10K documents', 'knowledgeBaseArn': 'arn:aws:bedrock:us-east-1:533267284022:knowledge-base/CZ6SKPBM2X', 'knowledgeBaseConfiguration': {'type': 'VECTOR', 'vectorKnowledgeBaseConfiguration': {'embeddingModelArn': 'arn:aws:bedrock:us-east-1::foundation-model/amazon.titan-embed-text-v2:0'}}, 'knowledgeBaseId': 'CZ6SKPBM2X', 'name': 'amazon-10k-kb', 'roleArn': 'arn:aws:iam::533267284022:role/amazon-10k-kb-ue1-533-execution-role', 'status': 'CREATING', 'storageConfiguration': {'opensearchServerlessConfiguration': {'collectionArn': 'arn:aws:aoss:us-east-1:533267284022:collection/8ou90y8obo4kszh2vj66', 'fieldMapping': {'metadataField': 'text-metadata', 'textField': 'text', 'vectorField': 'vector'}, 'vectorIndexName': 'azon-10k-kb-ue1-533-vector-store-index'}, 'type': 'OPENSEARCH_SERVERLESS'}, 'updatedAt': datetime.datetime(2025, 1, 9, 6, 16, 34, 605354, tzinfo=tzutc())}\n",
      "2025-01-08 22:16:35,564 [INFO] Created data source: {'createdAt': datetime.datetime(2025, 1, 9, 6, 16, 35, 584710, tzinfo=tzutc()), 'dataDeletionPolicy': 'RETAIN', 'dataSourceConfiguration': {'s3Configuration': {'bucketArn': 'arn:aws:s3:::amazon-10k-kb-ue1-533-bucket'}, 'type': 'S3'}, 'dataSourceId': 'W54IF5P3BM', 'description': 'Knowledge Base containing Amazon 10K documents', 'knowledgeBaseId': 'CZ6SKPBM2X', 'name': 'amazon-10k-kb', 'status': 'AVAILABLE', 'updatedAt': datetime.datetime(2025, 1, 9, 6, 16, 35, 584710, tzinfo=tzutc()), 'vectorIngestionConfiguration': {'chunkingConfiguration': {'chunkingStrategy': 'FIXED_SIZE', 'fixedSizeChunkingConfiguration': {'maxTokens': 512, 'overlapPercentage': 20}}}}\n",
      "2025-01-08 22:16:35,564 [INFO] ================================================================\n",
      "2025-01-08 22:16:35,565 [INFO] KB created successfully! KB ID: CZ6SKPBM2X, DS ID: W54IF5P3BM\n",
      "Knowledge base ID: CZ6SKPBM2X, Data source ID: W54IF5P3BM, Bucket name: amazon-10k-kb-ue1-533-bucket\n"
     ]
    }
   ],
   "source": [
    "knowledge_base_name = 'amzn10k'\n",
    "knowledge_base_description = 'Knowledge Base containing Amazon 10K documents'\n",
    "vector_store = 'OPENSEARCH_SERVERLESS'\n",
    "\n",
    "def upload_documents_to_s3(bucket_name, folder_path):\n",
    "    s3_client = boto3.client('s3', region_name=region)\n",
    "    for root, dirs, files in os.walk(folder_path):\n",
    "        for file in files:\n",
    "            file_path = os.path.join(root, file)\n",
    "            if file not in [\"LICENSE\", \"NOTICE\", \"README.md\"]:\n",
    "                print(f\"Uploading {file_path} to {bucket_name}\")\n",
    "                s3_client.upload_file(file_path, bucket_name, file)\n",
    "            else:\n",
    "                print(f\"Skipping {file_path}\")\n",
    "\n",
    "                \n",
    "kb_id, ds_id, bucket_name = kb.create_knowledge_base(\n",
    "    kb_name=knowledge_base_name,\n",
    "    kb_description=knowledge_base_description,\n",
    "    vector_store=vector_store,\n",
    "    embedding_model=embedding_model,\n",
    "    suffix=suffix\n",
    ")\n",
    "\n",
    "print(f\"Knowledge base ID: {kb_id}, Data source ID: {ds_id}, Bucket name: {bucket_name}\")"
   ]
  },
  {
   "cell_type": "code",
   "execution_count": null,
   "metadata": {},
   "outputs": [],
   "source": []
  },
  {
   "cell_type": "markdown",
   "metadata": {},
   "source": [
    "#### Upload documents to S3 and initiate Bedrock knowledge base data ingestion"
   ]
  },
  {
   "cell_type": "code",
   "execution_count": 9,
   "metadata": {},
   "outputs": [
    {
     "name": "stdout",
     "output_type": "stream",
     "text": [
      "Uploading kb_documents/AMAZON_2022_10K.pdf to amazon-10k-kb-ue1-533-bucket\n",
      "2025-01-08 22:22:26,880 [INFO] Starting data synchronization for KB ID: CZ6SKPBM2X and DS ID: W54IF5P3BM\n",
      "2025-01-08 22:22:28,381 [INFO] Started ingestion job: {'dataSourceId': 'W54IF5P3BM', 'ingestionJobId': 'P4HX7HWKV2', 'knowledgeBaseId': 'CZ6SKPBM2X', 'startedAt': datetime.datetime(2025, 1, 9, 6, 22, 28, 340591, tzinfo=tzutc()), 'statistics': {'numberOfDocumentsDeleted': 0, 'numberOfDocumentsFailed': 0, 'numberOfDocumentsScanned': 0, 'numberOfMetadataDocumentsModified': 0, 'numberOfMetadataDocumentsScanned': 0, 'numberOfModifiedDocumentsIndexed': 0, 'numberOfNewDocumentsIndexed': 0}, 'status': 'STARTING', 'updatedAt': datetime.datetime(2025, 1, 9, 6, 22, 28, 340591, tzinfo=tzutc())}\n",
      "2025-01-08 22:22:28,522 [INFO] Ingestion job status: STARTING\n",
      ".....\n",
      "2025-01-08 22:22:33,691 [INFO] Ingestion job status: IN_PROGRESS\n",
      ".....\n",
      "2025-01-08 22:22:38,872 [INFO] Ingestion job status: IN_PROGRESS\n",
      ".....\n",
      "2025-01-08 22:22:44,044 [INFO] Ingestion job status: COMPLETE\n",
      ".....\n",
      "2025-01-08 22:22:49,064 [INFO] Final ingestion job status: COMPLETE\n",
      "2025-01-08 22:22:49,065 [INFO] Here are the job details:{\n",
      "  \"dataSourceId\": \"W54IF5P3BM\",\n",
      "  \"ingestionJobId\": \"P4HX7HWKV2\",\n",
      "  \"knowledgeBaseId\": \"CZ6SKPBM2X\",\n",
      "  \"startedAt\": \"2025-01-09T06:22:28.340591+00:00\",\n",
      "  \"statistics\": {\n",
      "    \"numberOfDocumentsDeleted\": 0,\n",
      "    \"numberOfDocumentsFailed\": 0,\n",
      "    \"numberOfDocumentsScanned\": 1,\n",
      "    \"numberOfMetadataDocumentsModified\": 0,\n",
      "    \"numberOfMetadataDocumentsScanned\": 0,\n",
      "    \"numberOfModifiedDocumentsIndexed\": 0,\n",
      "    \"numberOfNewDocumentsIndexed\": 1\n",
      "  },\n",
      "  \"status\": \"COMPLETE\",\n",
      "  \"updatedAt\": \"2025-01-09T06:22:40.493254+00:00\"\n",
      "}\n"
     ]
    }
   ],
   "source": [
    "# Upload all documents in the folder to the S3 bucket\n",
    "upload_documents_to_s3(bucket_name, \"kb_documents\")\n",
    "\n",
    "# Synchronize the data from the S3 bucket to the Knowledge Base\n",
    "kb.synchronize_data(kb_id=kb_id, ds_id=ds_id)"
   ]
  },
  {
   "cell_type": "markdown",
   "metadata": {},
   "source": [
    "# Setup Agent\n",
    "\n",
    "Configure the Agent and associate it with the previously created Knowledge Base so that the agent queries the knowledge base for information to augment its responses\n",
    "\n"
   ]
  },
  {
   "cell_type": "code",
   "execution_count": 11,
   "metadata": {},
   "outputs": [
    {
     "name": "stdout",
     "output_type": "stream",
     "text": [
      "2025-01-08 22:23:32,386 [INFO] Found agent 'rag-agent-ue1-533' with ID: KPJOGYOMCS\n",
      "2025-01-08 22:23:32,387 [INFO] Deleting aliases for agent KPJOGYOMCS...\n",
      "2025-01-08 22:23:32,527 [INFO] Deleting alias TSTALIASID from agent KPJOGYOMCS\n",
      "2025-01-08 22:23:32,744 [INFO] Deleting action groups for agent KPJOGYOMCS...\n",
      "2025-01-08 22:23:32,875 [INFO] Deleting action group 'CodeInterpreterAction' (ID: SXAMLZM8ZL) from agent KPJOGYOMCS\n",
      "2025-01-08 22:23:33,014 [INFO] Action group details: {'ResponseMetadata': {'RequestId': '0163ad1c-ae2b-4697-8e3c-9a19a0ede867', 'HTTPStatusCode': 200, 'HTTPHeaders': {'date': 'Thu, 09 Jan 2025 06:23:33 GMT', 'content-type': 'application/json', 'content-length': '360', 'connection': 'keep-alive', 'x-amzn-requestid': '0163ad1c-ae2b-4697-8e3c-9a19a0ede867', 'x-amz-apigw-id': 'EG231F20oAMEa_A=', 'x-amzn-trace-id': 'Root=1-677f6b64-7319856e3ba34c06459a285d'}, 'RetryAttempts': 0}, 'agentActionGroup': {'actionGroupId': 'SXAMLZM8ZL', 'actionGroupName': 'CodeInterpreterAction', 'actionGroupState': 'ENABLED', 'agentId': 'KPJOGYOMCS', 'agentVersion': 'DRAFT', 'clientToken': '1c2b95f0-6a84-4821-a71d-f89495687a91', 'createdAt': datetime.datetime(2025, 1, 8, 23, 40, 17, 970502, tzinfo=tzutc()), 'parentActionSignature': 'AMAZON.CodeInterpreter', 'updatedAt': datetime.datetime(2025, 1, 8, 23, 40, 17, 970502, tzinfo=tzutc())}}\n",
      "2025-01-08 22:23:33,014 [ERROR] Error deleting action groups: 'actionGroupExecutor'\n",
      "2025-01-08 22:23:33,015 [INFO] Deleting agent: KPJOGYOMCS\n",
      ".....\n",
      ".....\n",
      "2025-01-08 22:23:43,285 [INFO] Deleted agent: KPJOGYOMCS\n",
      "2025-01-08 22:23:43,287 [INFO] Deleting IAM role: rag-agent-ue1-533-exec-role\n",
      "2025-01-08 22:23:44,872 [INFO] Deleted role: rag-agent-ue1-533-exec-role\n"
     ]
    }
   ],
   "source": [
    "# agent_name=f'rag-agent-{suffix}'\n",
    "# agents.delete_bedrock_agent(agent_name=agent_name, delete_role=True, verbose=True)"
   ]
  },
  {
   "cell_type": "code",
   "execution_count": 12,
   "metadata": {},
   "outputs": [
    {
     "name": "stdout",
     "output_type": "stream",
     "text": [
      "2025-01-08 22:23:52,479 [INFO] Creating IAM role: rag-agent-ue1-533-exec-role\n",
      "2025-01-08 22:23:52,622 [INFO] Created IAM role: arn:aws:iam::533267284022:role/rag-agent-ue1-533-exec-role\n",
      "2025-01-08 22:23:57,879 [INFO] Created managed policy: arn:aws:iam::533267284022:policy/rag-agent-ue1-533-AmazonBedrockAgentModelAccessPolicy\n",
      "2025-01-08 22:23:58,038 [INFO] Attached policy 'rag-agent-ue1-533-AmazonBedrockAgentModelAccessPolicy' to role 'rag-agent-ue1-533-exec-role'\n",
      "2025-01-08 22:23:58,238 [INFO] Created agent: SOUUGYIXPE\n",
      "2025-01-08 22:24:13,244 [INFO] Updating policy 'rag-agent-ue1-533-AmazonBedrockAgentKBAccessPolicy' for role 'arn:aws:iam::533267284022:role/rag-agent-ue1-533-exec-role'\n",
      "2025-01-08 22:24:13,480 [INFO] Created new policy: rag-agent-ue1-533-AmazonBedrockAgentKBAccessPolicy\n",
      "2025-01-08 22:24:13,660 [INFO] Attached policy 'rag-agent-ue1-533-AmazonBedrockAgentKBAccessPolicy' to role 'rag-agent-ue1-533-exec-role'\n",
      "2025-01-08 22:24:13,660 [INFO] Associating agent 'SOUUGYIXPE' with knowledge base 'CZ6SKPBM2X'\n",
      "2025-01-08 22:24:13,843 [INFO] Associated agent 'SOUUGYIXPE' with KB 'CZ6SKPBM2X'\n",
      "2025-01-08 22:24:13,844 [INFO] Response: {'ResponseMetadata': {'RequestId': 'fdf8130b-57f9-4b4e-83ba-9c5ce67a68a6', 'HTTPStatusCode': 200, 'HTTPHeaders': {'date': 'Thu, 09 Jan 2025 06:24:13 GMT', 'content-type': 'application/json', 'content-length': '311', 'connection': 'keep-alive', 'x-amzn-requestid': 'fdf8130b-57f9-4b4e-83ba-9c5ce67a68a6', 'x-amz-apigw-id': 'EG2-NHnXoAMEvgQ=', 'x-amzn-trace-id': 'Root=1-677f6b8d-3f4ad13f7b85e1fe31c65721'}, 'RetryAttempts': 0}, 'agentKnowledgeBase': {'createdAt': datetime.datetime(2025, 1, 9, 6, 24, 13, 818691, tzinfo=tzutc()), 'description': \"Use this knowledge base to provide responses to user queries on Amazon's financial performance and business activities\", 'knowledgeBaseId': 'CZ6SKPBM2X', 'knowledgeBaseState': 'ENABLED', 'updatedAt': datetime.datetime(2025, 1, 9, 6, 24, 13, 818691, tzinfo=tzutc())}}\n",
      "2025-01-08 22:24:13,964 [INFO] Waiting for agent rag-agent-ue1-533 to reach state NOT_PREPARED...\n",
      "..........\n",
      "2025-01-08 22:24:24,003 [INFO] Getting status for agent 'rag-agent-ue1-533'\n",
      "2025-01-08 22:24:24,330 [INFO] Agent 'rag-agent-ue1-533' status: {'agentId': 'SOUUGYIXPE', 'agentName': 'rag-agent-ue1-533', 'agentStatus': 'NOT_PREPARED', 'foundationModel': 'anthropic.claude-3-sonnet-20240229-v1:0', 'agentCollaboration': 'DISABLED', 'orchestrationType': 'DEFAULT', 'createdAt': datetime.datetime(2025, 1, 9, 6, 23, 58, 222078, tzinfo=tzutc()), 'lastUpdatedAt': datetime.datetime(2025, 1, 9, 6, 23, 59, 30345, tzinfo=tzutc())}\n",
      "2025-01-08 22:24:24,330 [INFO] Agent status info: {'agentId': 'SOUUGYIXPE', 'agentName': 'rag-agent-ue1-533', 'agentStatus': 'NOT_PREPARED', 'foundationModel': 'anthropic.claude-3-sonnet-20240229-v1:0', 'agentCollaboration': 'DISABLED', 'orchestrationType': 'DEFAULT', 'createdAt': datetime.datetime(2025, 1, 9, 6, 23, 58, 222078, tzinfo=tzutc()), 'lastUpdatedAt': datetime.datetime(2025, 1, 9, 6, 23, 59, 30345, tzinfo=tzutc())}\n",
      "2025-01-08 22:24:24,331 [INFO] Agent in NOT_PREPARED state...\n",
      "..........\n",
      "2025-01-08 22:24:34,373 [INFO] Getting status for agent 'rag-agent-ue1-533'\n",
      "2025-01-08 22:24:34,612 [INFO] Agent 'rag-agent-ue1-533' status: {'agentId': 'SOUUGYIXPE', 'agentName': 'rag-agent-ue1-533', 'agentStatus': 'NOT_PREPARED', 'foundationModel': 'anthropic.claude-3-sonnet-20240229-v1:0', 'agentCollaboration': 'DISABLED', 'orchestrationType': 'DEFAULT', 'createdAt': datetime.datetime(2025, 1, 9, 6, 23, 58, 222078, tzinfo=tzutc()), 'lastUpdatedAt': datetime.datetime(2025, 1, 9, 6, 23, 59, 30345, tzinfo=tzutc())}\n",
      "2025-01-08 22:24:34,613 [INFO] Agent in NOT_PREPARED state, waiting for NOT_PREPARED... (attempt 1/100)\n",
      "2025-01-08 22:24:34,817 [INFO] Added code interpreter to agent 'rag-agent-ue1-533'\n",
      "2025-01-08 22:24:34,818 [INFO] Waiting for agent rag-agent-ue1-533 to reach state NOT_PREPARED...\n",
      "..........\n",
      "2025-01-08 22:24:44,866 [INFO] Getting status for agent 'rag-agent-ue1-533'\n",
      "2025-01-08 22:24:45,107 [INFO] Agent 'rag-agent-ue1-533' status: {'agentId': 'SOUUGYIXPE', 'agentName': 'rag-agent-ue1-533', 'agentStatus': 'NOT_PREPARED', 'foundationModel': 'anthropic.claude-3-sonnet-20240229-v1:0', 'agentCollaboration': 'DISABLED', 'orchestrationType': 'DEFAULT', 'createdAt': datetime.datetime(2025, 1, 9, 6, 23, 58, 222078, tzinfo=tzutc()), 'lastUpdatedAt': datetime.datetime(2025, 1, 9, 6, 23, 59, 30345, tzinfo=tzutc())}\n",
      "2025-01-08 22:24:45,108 [INFO] Agent status info: {'agentId': 'SOUUGYIXPE', 'agentName': 'rag-agent-ue1-533', 'agentStatus': 'NOT_PREPARED', 'foundationModel': 'anthropic.claude-3-sonnet-20240229-v1:0', 'agentCollaboration': 'DISABLED', 'orchestrationType': 'DEFAULT', 'createdAt': datetime.datetime(2025, 1, 9, 6, 23, 58, 222078, tzinfo=tzutc()), 'lastUpdatedAt': datetime.datetime(2025, 1, 9, 6, 23, 59, 30345, tzinfo=tzutc())}\n",
      "2025-01-08 22:24:45,109 [INFO] Agent in NOT_PREPARED state...\n",
      "..........\n",
      "2025-01-08 22:24:55,150 [INFO] Getting status for agent 'rag-agent-ue1-533'\n",
      "2025-01-08 22:24:55,399 [INFO] Agent 'rag-agent-ue1-533' status: {'agentId': 'SOUUGYIXPE', 'agentName': 'rag-agent-ue1-533', 'agentStatus': 'NOT_PREPARED', 'foundationModel': 'anthropic.claude-3-sonnet-20240229-v1:0', 'agentCollaboration': 'DISABLED', 'orchestrationType': 'DEFAULT', 'createdAt': datetime.datetime(2025, 1, 9, 6, 23, 58, 222078, tzinfo=tzutc()), 'lastUpdatedAt': datetime.datetime(2025, 1, 9, 6, 23, 59, 30345, tzinfo=tzutc())}\n",
      "2025-01-08 22:24:55,400 [INFO] Agent in NOT_PREPARED state, waiting for NOT_PREPARED... (attempt 1/100)\n",
      "..........\n",
      "2025-01-08 22:25:05,771 [INFO] Getting status for agent 'rag-agent-ue1-533'\n",
      "2025-01-08 22:25:06,008 [INFO] Agent 'rag-agent-ue1-533' status: {'agentId': 'SOUUGYIXPE', 'agentName': 'rag-agent-ue1-533', 'agentStatus': 'PREPARED', 'foundationModel': 'anthropic.claude-3-sonnet-20240229-v1:0', 'agentCollaboration': 'DISABLED', 'orchestrationType': 'DEFAULT', 'createdAt': datetime.datetime(2025, 1, 9, 6, 23, 58, 222078, tzinfo=tzutc()), 'lastUpdatedAt': datetime.datetime(2025, 1, 9, 6, 23, 59, 30345, tzinfo=tzutc())}\n",
      "2025-01-08 22:25:06,009 [INFO] Agent rag-agent-ue1-533 is now prepared\n",
      "Agent name: rag-agent-ue1-533\n",
      "Agent name: rag-agent-ue1-533\n",
      "Agent ID: SOUUGYIXPE\n",
      "Agent Alias ID: TSTALIASID\n",
      "..........\n",
      "2025-01-08 22:25:16,379 [INFO] Getting status for agent 'rag-agent-ue1-533'\n",
      "2025-01-08 22:25:16,633 [INFO] Agent 'rag-agent-ue1-533' status: {'agentId': 'SOUUGYIXPE', 'agentName': 'rag-agent-ue1-533', 'agentStatus': 'PREPARED', 'foundationModel': 'anthropic.claude-3-sonnet-20240229-v1:0', 'agentCollaboration': 'DISABLED', 'orchestrationType': 'DEFAULT', 'createdAt': datetime.datetime(2025, 1, 9, 6, 23, 58, 222078, tzinfo=tzutc()), 'lastUpdatedAt': datetime.datetime(2025, 1, 9, 6, 23, 59, 30345, tzinfo=tzutc())}\n",
      "2025-01-08 22:25:16,633 [INFO] Agent rag-agent-ue1-533 is now prepared\n"
     ]
    }
   ],
   "source": [
    "agent_name=f'rag-agent-{suffix}'\n",
    "\n",
    "# Description of the agent\n",
    "agent_description = \"\"\"You are a versatile AI assistant that combines provided context with general knowledge to deliver accurate, \n",
    "well-sourced information and solutions to questions across various domains.\"\"\"\n",
    "\n",
    "# Instructions that tell the agent what it should do and how it should interact with users.\n",
    "agent_instruction = \"\"\"You are a General AI Assistant helping users with diverse tasks and questions across multiple domains. Your role is to \n",
    "leverage both your general expertise and context-based knowledge retrieved in real-time to provide accurate, relevant, and up-to-date information. You are capable of \n",
    "answering questions with clear explanations on a broad range of topics, including but not limited to technology, science, health, finance, and general knowledge.\n",
    "\n",
    "Response style:\n",
    "1. Maintain a professional yet friendly tone\n",
    "2. Use clear, straightforward language\n",
    "3. Focus on practical, actionable solutions\n",
    "4. Structure responses logically and concisely\n",
    "5. Break down complex concepts simply\n",
    "6. Stay relevant to user queries\n",
    "7. Avoid unnecessary information\n",
    "8. Ensure a natural conversation flow\n",
    "9. Use available information before asking questions\n",
    "10. Do not directly quote or mention that the information is from the context.\"\"\"\n",
    "\n",
    "\n",
    "# Description of what the agent should use the knowledge base for\n",
    "kb_usage_description = \"Use this knowledge base to provide responses to user queries on Amazon's financial performance and business activities\"\n",
    "\n",
    "# Create the RAG agent\n",
    "rag_agent = agents.create_bedrock_agent(\n",
    "    agent_name=agent_name, \n",
    "    agent_description=agent_description,\n",
    "    agent_instructions=agent_instruction,\n",
    "    model_id=foundation_model, # TODO: Should this be a list?\n",
    "    kb_id=kb_id,\n",
    "    associate_kb=True,\n",
    "    code_interpreter=True,  # Enabling code interpreter to make the agent use instructions\n",
    "    kb_usage_description=\"Use this knowledge base to provide responses to user queries on Amazon's financial performance and business activities\",\n",
    "    verbose=True\n",
    "    )\n",
    "\n",
    "\n",
    "print('Agent name:', agent_name)\n",
    "print(f\"Agent name: {agent_name}\", f\"Agent ID: {rag_agent[0]}\", f\"Agent Alias ID: {rag_agent[1]}\", sep='\\n')\n",
    "\n",
    "# Prepare the agent\n",
    "agents.prepare_bedrock_agent(agent_name=agent_name, verbose=True)"
   ]
  },
  {
   "cell_type": "markdown",
   "metadata": {},
   "source": [
    "# Query Knowledge Base\n",
    "Execute a query against the knowledge base to test responses and citations.\n"
   ]
  },
  {
   "cell_type": "code",
   "execution_count": 83,
   "metadata": {},
   "outputs": [],
   "source": [
    "user_query = \"What is Amazon's primary focus?\"\n",
    "\n",
    "kb_response = kb.retrieve_and_generate_from_kb(\n",
    "    query=user_query,\n",
    "    kb_id=kb_id,\n",
    "    num_results=5,\n",
    "    model_id=foundation_model,\n",
    "    region=region,\n",
    "    verbose=False\n",
    ")"
   ]
  },
  {
   "cell_type": "code",
   "execution_count": 85,
   "metadata": {},
   "outputs": [
    {
     "name": "stdout",
     "output_type": "stream",
     "text": [
      "User query:\n",
      "What is Amazon's primary focus?\n",
      "\n",
      "Knowledge Base's response:\n",
      "Amazon's primary focus is to be Earth's most customer-centric company. They are guided by four principles: customer obsession rather than competitor\n",
      "focus, passion for invention, commitment to operational excellence, and long-term thinking.\n",
      "\n",
      "Citation 1:\n",
      "Certain Relationships and Related Transactions, and Director Independence 71 Item 14. Principal Accountant Fees and Services 71     PART IV Item 15.\n",
      "Exhibits, Financial Statement Schedules 72 Item 16.......\n"
     ]
    }
   ],
   "source": [
    "print(f\"User query:\", textwrap.fill(user_query, width=150), sep='\\n')\n",
    "print(\"\\nKnowledge Base's response:\", textwrap.fill(kb_response.generated_text, width=150), sep='\\n')\n",
    "for i, citation in enumerate(kb_response.citations, start=1):\n",
    "    print(f\"\\nCitation {i}:\", textwrap.fill(citation.text[:200] + \"......\", width=150), sep='\\n')"
   ]
  },
  {
   "cell_type": "markdown",
   "metadata": {},
   "source": [
    "# Query Agent\n",
    "Run the same query through the agent and test its response and citations"
   ]
  },
  {
   "cell_type": "code",
   "execution_count": 58,
   "metadata": {},
   "outputs": [
    {
     "name": "stdout",
     "output_type": "stream",
     "text": [
      "2025-01-08 23:33:08,648 [INFO] Invoking agent 'rag-agent-ue1-533' with input: What is Amazon's primary focus?\n",
      "\u001b[32m---- Step 1 ----\u001b[0m\n",
      "\u001b[33mTook 3.0s, using 1775 tokens (in: 1670, out: 105) to complete action.\u001b[0m\n",
      "\u001b[34mTo answer this question about Amazon's primary focus, I will search the provided knowledge base for relevant information.\u001b[0m\n",
      "\u001b[32m---- Step 2 ----\u001b[0m\n",
      "\u001b[33mTook 8.8s, using 2272 tokens (in: 2081, out: 191) to complete action.\u001b[0m\n",
      "\u001b[36mFinal response:\n",
      "\n",
      "\n",
      "Amazon's primary focus is to be the most customer-centric company in the world. The company is guided by four key principles:\n",
      "\n",
      "1) Obsession over customer satisfaction rather than focusing on competitors\n",
      "2) Passion for innovation and invention \n",
      "3) Commitment to operational excellence\n",
      "4) Thinking long-term rather than being shortsighted\n",
      "\n",
      "Amazon aims to offer consumers low prices, fast and free delivery, easy-to-use functionality, and excellent customer service through its online and physical stores. The company serves a diverse set of customers including consumers, sellers, developers, enterprises, content creators, advertisers, and employees.\n",
      "\n",
      "\n",
      "...\u001b[0m\n",
      "\u001b[33mAgent made a total of 2 LLM calls, using 4047 tokens (in: 3751, out: 296), and took 12.2 total seconds.\u001b[0m\n"
     ]
    }
   ],
   "source": [
    "agents_response = agents.invoke(\n",
    "    agent_name=agent_name, \n",
    "    input_text=user_query, \n",
    "    verbose=True, \n",
    "    enable_trace=True,      # Enable trace to get citations from agent's response\n",
    "    kb_id=kb_id,\n",
    "    num_results=num_results,\n",
    "    trace_level='core',\n",
    "\n",
    ")"
   ]
  },
  {
   "cell_type": "code",
   "execution_count": 86,
   "metadata": {},
   "outputs": [
    {
     "name": "stdout",
     "output_type": "stream",
     "text": [
      "User query:\n",
      "What is Amazon's primary focus?\n",
      "\n",
      "Agent's response:\n",
      "  Amazon's primary focus is to be the most customer-centric company in the world. The company is guided by four key principles:  1) Obsession over\n",
      "customer satisfaction rather than focusing on competitors 2) Passion for innovation and invention  3) Commitment to operational excellence 4) Thinking\n",
      "long-term rather than being shortsighted  Amazon aims to offer consumers low prices, fast and free delivery, easy-to-use functionality, and excellent\n",
      "customer service through its online and physical stores. The company serves a diverse set of customers including consumers, sellers, developers,\n",
      "enterprises, content creators, advertisers, and employees.\n",
      "\n",
      "Citation 1:\n",
      "Certain Relationships and Related Transactions, and Director Independence 71 Item 14. Principal Accountant Fees and Services 71     PART IV Item 15.\n",
      "Exhibits, Financial Statement Schedules 72 Item 16.......\n",
      "\n",
      "Citation 2:\n",
      "In each of our segments, we serve our primary customer sets, consisting of consumers, sellers,     developers, enterprises, content creators,\n",
      "advertisers, and employees. We serve consumers through our......\n",
      "\n",
      "Citation 3:\n",
      "Customers access our offerings through our websites, mobile apps, Alexa, devices, streaming, and physically visiting our stores. We also manufacture\n",
      "and sell electronic devices, including Kindle, Fire......\n",
      "\n",
      "Citation 4:\n",
      "As we strive to be Earth’s best employer, we focus on investment and innovation, inclusion and diversity, safety, and engagement to hire and develop\n",
      "the best talent. We rely on numerous and evolving i......\n",
      "\n",
      "Citation 5:\n",
      "Recent Sales of Unregistered Securities     None.     Issuer Purchases of Equity Securities None.     Item 6. Reserved     18Table of Contents\n",
      "Item 7. Management’s Discussion and Analysis of Finan......\n"
     ]
    }
   ],
   "source": [
    "print(f\"User query:\", textwrap.fill(user_query, width=150), sep='\\n')\n",
    "print(\"\\nAgent's response:\", textwrap.fill(agents_response['response'], width=150), sep='\\n')\n",
    "for i, citation in enumerate(agents_response['citations'], start=1):\n",
    "    print(f\"\\nCitation {i}:\", textwrap.fill(citation.text[:200] + \"......\", width=150), sep='\\n')"
   ]
  },
  {
   "cell_type": "markdown",
   "metadata": {},
   "source": [
    "# Compare Responses\n",
    "\n",
    "Compare the responses obtained from the Knowledge Base and Agent for an evaluation dataset."
   ]
  },
  {
   "cell_type": "code",
   "execution_count": null,
   "metadata": {},
   "outputs": [],
   "source": [
    "\n",
    "# Generate responses for a list of QA records\n",
    "def generate_kb_and_agent_responses(qa_records):\n",
    "    results = []\n",
    "    for record in qa_records:\n",
    "        record_results = []\n",
    "        for turn in record['conversationTurns']:\n",
    "            user_query = turn['prompt']['content'][0]['text']\n",
    "            \n",
    "            # Generate KB response\n",
    "            kb_response = kb.retrieve_and_generate_from_kb(\n",
    "                query=user_query,\n",
    "                kb_id=kb_id,\n",
    "                num_results=5,\n",
    "                model_id=\"anthropic.claude-3-sonnet-20240229-v1:0\",\n",
    "                region=region,\n",
    "                verbose=False\n",
    "            )\n",
    "            \n",
    "            # Generate Agent response\n",
    "            agent_response = agents.invoke(\n",
    "                agent_name=agent_name, \n",
    "                input_text=user_query, \n",
    "                num_results=5,\n",
    "                verbose=False, \n",
    "                trace_level=None\n",
    "            )\n",
    "            \n",
    "            # Store responses\n",
    "            record_results.append({\n",
    "                'user_query': user_query,\n",
    "                'kb_response': kb_response.generated_text,\n",
    "                'agent_response': agent_response['response'],\n",
    "            })\n",
    "        \n",
    "        # Append record results to overall results\n",
    "        results.append(record_results)\n",
    "    \n",
    "    # Compare responses\n",
    "    for record_result in results:\n",
    "        for result in record_result:\n",
    "            kb_resp = result['kb_response']\n",
    "            agent_resp = result['agent_response']\n",
    "            user_query = result['user_query']\n",
    "            \n",
    "            # # Print comparison (for debugging purposes)\n",
    "            # print(f\"User Query: {user_query}\")\n",
    "            # print(f\"KB Response: {kb_resp}\")\n",
    "            # print(f\"Agent Response: {agent_resp}\")\n",
    "            # print(\"\\n\")\n",
    "\n",
    "    return results\n",
    "\n",
    "\n",
    "\n",
    "# Load the QA records from the JSON file in S3\n",
    "qa_records = data.read_jsonl_from_s3(\n",
    "    bucket=\"synthetic-qa-dataset-amzn-10k\",\n",
    "    key=\"evaluation_data/rag_dataset_prompt_only.jsonl\",\n",
    "    verbose=True\n",
    ")\n",
    "\n",
    "qa_records = qa_records[:10]  # Limit the number of records for testing\n",
    "\n",
    "# Generate responses for the QA records\n",
    "kb_and_agents_results = generate_kb_and_agent_responses(qa_records)"
   ]
  },
  {
   "cell_type": "markdown",
   "metadata": {},
   "source": [
    "# Cleanup"
   ]
  },
  {
   "cell_type": "code",
   "execution_count": 88,
   "metadata": {},
   "outputs": [
    {
     "name": "stdout",
     "output_type": "stream",
     "text": [
      "2025-01-09 08:03:45,347 [INFO] ================================================================\n",
      "2025-01-09 08:03:45,348 [INFO] Deleting resources for kb_name='fixed-size-chunk-kb' and suffix='ue1-533'\n",
      "2025-01-09 08:03:45,348 [INFO] Listing all knowledge bases via pagination...\n",
      "2025-01-09 08:03:45,479 [WARNING] No KB found for name 'fixed-size-chunk-kb'. Skipping KB deletion.\n",
      "2025-01-09 08:03:45,479 [INFO] Deleting S3 bucket: fixed-size-chunk-kb-ue1-533-bucket\n",
      "2025-01-09 08:03:45,810 [WARNING] Bucket fixed-size-chunk-kb-ue1-533-bucket does not exist.\n",
      "2025-01-09 08:03:45,811 [INFO] Deleting Bedrock KB execution role: fixed-size-chunk-kb-ue1-533-execution-role\n",
      "2025-01-09 08:03:45,904 [WARNING] Role fixed-size-chunk-kb-ue1-533-execution-role does not exist.\n",
      "2025-01-09 08:03:45,904 [INFO] Finding AOSS collection for name: ze-chunk-kb-ue1-533-vector-store\n",
      "2025-01-09 08:03:46,014 [WARNING] No AOSS collection found for name 'ze-chunk-kb-ue1-533-vector-store'. Skipping collection deletion.\n"
     ]
    },
    {
     "ename": "UnboundLocalError",
     "evalue": "local variable 'aoss' referenced before assignment",
     "output_type": "error",
     "traceback": [
      "\u001b[0;31m---------------------------------------------------------------------------\u001b[0m",
      "\u001b[0;31mUnboundLocalError\u001b[0m                         Traceback (most recent call last)",
      "Cell \u001b[0;32mIn[88], line 2\u001b[0m\n\u001b[1;32m      1\u001b[0m \u001b[38;5;66;03m# Delete the Knowledge Base and all assoicated resources based on kb name and suffix\u001b[39;00m\n\u001b[0;32m----> 2\u001b[0m \u001b[43mkb\u001b[49m\u001b[38;5;241;43m.\u001b[39;49m\u001b[43mdelete_knowledge_base_resources_by_name\u001b[49m\u001b[43m(\u001b[49m\u001b[43mkb_name\u001b[49m\u001b[38;5;241;43m=\u001b[39;49m\u001b[43mknowledge_base_name\u001b[49m\u001b[43m,\u001b[49m\u001b[43m \u001b[49m\u001b[43msuffix\u001b[49m\u001b[38;5;241;43m=\u001b[39;49m\u001b[43msuffix\u001b[49m\u001b[43m)\u001b[49m\n",
      "File \u001b[0;32m~/Documents/Code/agentic-rag-research/agentic-rag-research/utils/knowledgebase.py:928\u001b[0m, in \u001b[0;36mBedrockKnowledgeBases.delete_knowledge_base_resources_by_name\u001b[0;34m(self, kb_name, suffix)\u001b[0m\n\u001b[1;32m    926\u001b[0m network_policy_name \u001b[38;5;241m=\u001b[39m NameGenerator\u001b[38;5;241m.\u001b[39mgenerate_policy_name(vector_store_name, \u001b[38;5;124m\"\u001b[39m\u001b[38;5;124mne\u001b[39m\u001b[38;5;124m\"\u001b[39m)\n\u001b[1;32m    927\u001b[0m access_policy_name \u001b[38;5;241m=\u001b[39m NameGenerator\u001b[38;5;241m.\u001b[39mgenerate_policy_name(vector_store_name, \u001b[38;5;124m\"\u001b[39m\u001b[38;5;124mac\u001b[39m\u001b[38;5;124m\"\u001b[39m)\n\u001b[0;32m--> 928\u001b[0m \u001b[43maoss\u001b[49m\u001b[38;5;241m.\u001b[39mdelete_aoss_policies(encryption_policy_name, network_policy_name, access_policy_name)\n\u001b[1;32m    929\u001b[0m logger\u001b[38;5;241m.\u001b[39minfo(\u001b[38;5;124m\"\u001b[39m\u001b[38;5;124mAll resources deleted successfully.\u001b[39m\u001b[38;5;124m\"\u001b[39m)\n",
      "\u001b[0;31mUnboundLocalError\u001b[0m: local variable 'aoss' referenced before assignment"
     ]
    }
   ],
   "source": [
    "# Delete the Knowledge Base and all assoicated resources based on kb name and suffix\n",
    "kb.delete_knowledge_base_resources_by_name(kb_name=knowledge_base_name, suffix=suffix)"
   ]
  },
  {
   "cell_type": "code",
   "execution_count": 89,
   "metadata": {},
   "outputs": [
    {
     "name": "stdout",
     "output_type": "stream",
     "text": [
      "2025-01-09 08:03:58,713 [INFO] Found agent 'rag-agent-ue1-533' with ID: SOUUGYIXPE\n",
      "2025-01-09 08:03:58,713 [INFO] Deleting aliases for agent SOUUGYIXPE...\n",
      "2025-01-09 08:03:58,852 [INFO] Deleting alias TSTALIASID from agent SOUUGYIXPE\n",
      "2025-01-09 08:03:59,057 [INFO] Deleting action groups for agent SOUUGYIXPE...\n",
      "2025-01-09 08:03:59,182 [INFO] Deleting action group 'CodeInterpreterAction' (ID: 0SXJTKLIMJ) from agent SOUUGYIXPE\n",
      "2025-01-09 08:03:59,342 [INFO] Action group details: {'ResponseMetadata': {'RequestId': '235b0854-271e-4384-ba78-2ee2e9a0c03e', 'HTTPStatusCode': 200, 'HTTPHeaders': {'date': 'Thu, 09 Jan 2025 16:03:59 GMT', 'content-type': 'application/json', 'content-length': '360', 'connection': 'keep-alive', 'x-amzn-requestid': '235b0854-271e-4384-ba78-2ee2e9a0c03e', 'x-amz-apigw-id': 'EIL5cHY3oAMEL_Q=', 'x-amzn-trace-id': 'Root=1-677ff36f-02b9f8dd12a0fd210f3153b4'}, 'RetryAttempts': 0}, 'agentActionGroup': {'actionGroupId': '0SXJTKLIMJ', 'actionGroupName': 'CodeInterpreterAction', 'actionGroupState': 'ENABLED', 'agentId': 'SOUUGYIXPE', 'agentVersion': 'DRAFT', 'clientToken': 'abf21d61-9fa7-48ae-af32-58613446a287', 'createdAt': datetime.datetime(2025, 1, 9, 6, 24, 34, 800612, tzinfo=tzutc()), 'parentActionSignature': 'AMAZON.CodeInterpreter', 'updatedAt': datetime.datetime(2025, 1, 9, 6, 24, 34, 800612, tzinfo=tzutc())}}\n",
      "2025-01-09 08:03:59,342 [ERROR] Error deleting action groups: 'actionGroupExecutor'\n",
      "2025-01-09 08:03:59,343 [INFO] Deleting agent: SOUUGYIXPE\n",
      ".....\n",
      ".....\n",
      "2025-01-09 08:04:09,570 [INFO] Deleted agent: SOUUGYIXPE\n",
      "2025-01-09 08:04:09,571 [INFO] Deleting IAM role: rag-agent-ue1-533-exec-role\n",
      "2025-01-09 08:04:11,135 [INFO] Deleted role: rag-agent-ue1-533-exec-role\n"
     ]
    }
   ],
   "source": [
    "agents.delete_bedrock_agent(agent_name=agent_name, delete_role=True, verbose=True)"
   ]
  },
  {
   "cell_type": "code",
   "execution_count": null,
   "metadata": {},
   "outputs": [],
   "source": []
  }
 ],
 "metadata": {
  "kernelspec": {
   "display_name": "genai-on-aws-p3.8",
   "language": "python",
   "name": "python3"
  },
  "language_info": {
   "codemirror_mode": {
    "name": "ipython",
    "version": 3
   },
   "file_extension": ".py",
   "mimetype": "text/x-python",
   "name": "python",
   "nbconvert_exporter": "python",
   "pygments_lexer": "ipython3",
   "version": "3.8.18"
  }
 },
 "nbformat": 4,
 "nbformat_minor": 2
}
