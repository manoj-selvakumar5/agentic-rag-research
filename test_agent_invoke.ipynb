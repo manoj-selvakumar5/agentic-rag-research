{
 "cells": [
  {
   "cell_type": "code",
   "execution_count": 1,
   "metadata": {},
   "outputs": [
    {
     "name": "stdout",
     "output_type": "stream",
     "text": [
      "AWS Region: us-east-1\n",
      "Account ID: 533267284022\n",
      "Suffix: ue1-533\n"
     ]
    }
   ],
   "source": [
    "import os\n",
    "import time\n",
    "import boto3\n",
    "import json\n",
    "\n",
    "\n",
    "# Initialize AWS clients\n",
    "s3_client = boto3.client('s3')\n",
    "sts_client = boto3.client('sts')\n",
    "session = boto3.session.Session()\n",
    "region = session.region_name\n",
    "account_id = sts_client.get_caller_identity()[\"Account\"]\n",
    "bedrock_agent_client = boto3.client('bedrock-agent')\n",
    "bedrock_agent_runtime_client = boto3.client('bedrock-agent-runtime')\n",
    "bedrock_runtime_client = boto3.client('bedrock-runtime', region_name=region)\n",
    "\n",
    "\n",
    "account_id_suffix = account_id[:3]\n",
    "region_suffix = ''.join([word[0] for word in region.split('-')])\n",
    "suffix = f\"{region_suffix}-{account_id_suffix}\"\n",
    "\n",
    "# Define Knowledge Base parameters\n",
    "knowledge_base_name_standard = 'fixed-size-chunk-kb'\n",
    "knowledge_base_name_hierarchical = 'hierarchical-chunk-kb'\n",
    "knowledge_base_description = \"Knowledge Base containing sample synthetic Octank financial data\"\n",
    "\n",
    "print(f\"AWS Region: {region}\", f\"Account ID: {account_id}\", f\"Suffix: {suffix}\", sep='\\n')"
   ]
  },
  {
   "cell_type": "code",
   "execution_count": 8,
   "metadata": {},
   "outputs": [],
   "source": [
    "from utils.knowledgebase import BedrockKnowledgeBases\n",
    "from utils.agents import BedrockAgents\n",
    "from utils.agents import AWSResourceManager\n",
    "from utils.chat import BedrockChat, SyntheticDataGenerator\n",
    "from IPython.display import Markdown, display\n",
    "\n",
    "def print_markdown(text):\n",
    "    display(Markdown(text))\n",
    "\n",
    "    \n",
    "kb = BedrockKnowledgeBases()\n",
    "agents = BedrockAgents()"
   ]
  },
  {
   "cell_type": "code",
   "execution_count": 9,
   "metadata": {},
   "outputs": [
    {
     "name": "stdout",
     "output_type": "stream",
     "text": [
      "Agent name: rag-agent-ue1-533\n",
      "KB id: 892DWWRLXW\n"
     ]
    }
   ],
   "source": [
    "agent_name=f'rag-agent-{suffix}'\n",
    "kb_id = \"892DWWRLXW\"\n",
    "\n",
    "print(f\"Agent name: {agent_name}\", f\"KB id: {kb_id}\", sep='\\n')\n"
   ]
  },
  {
   "cell_type": "code",
   "execution_count": 10,
   "metadata": {},
   "outputs": [
    {
     "name": "stdout",
     "output_type": "stream",
     "text": [
      "2025-01-07 16:02:46,107 [INFO] Invoking agent 'rag-agent-ue1-533' with input: What is the total cost of Octank Financial's property and equipment as of December 31, 2022?\n",
      "\u001b[32m---- Step 1 ----\u001b[0m\n",
      "\u001b[33mTook 3.7s, using 3251 tokens (in: 3145, out: 106) to complete action.\u001b[0m\n",
      "\u001b[36mFinal response:\n",
      "According to the table for Property and Equipment, Net under NOTES TO CONSOLIDATED FINANCIAL STATEMENTS, the total cost of Octank Financial's property and equipment as of December 31, 2022 is $440,000,000....\u001b[0m\n",
      "\u001b[33mAgent made a total of 1 LLM calls, using 3251 tokens (in: 3145, out: 106), and took 4.2 total seconds.\u001b[0m\n"
     ]
    }
   ],
   "source": [
    "user_query = \"What is the total cost of Octank Financial's property and equipment as of December 31, 2022?\"\n",
    "\n",
    "result = agents.invoke(\n",
    "    agent_name=agent_name, \n",
    "    input_text=user_query, \n",
    "    verbose=True, \n",
    "    trace_level='core',\n",
    "    save_trace_json_file='agent_full_trace.json'\n",
    ")\n"
   ]
  },
  {
   "cell_type": "code",
   "execution_count": 11,
   "metadata": {},
   "outputs": [
    {
     "data": {
      "text/markdown": [
       "According to the table for Property and Equipment, Net under NOTES TO CONSOLIDATED FINANCIAL STATEMENTS, the total cost of Octank Financial's property and equipment as of December 31, 2022 is $440,000,000."
      ],
      "text/plain": [
       "<IPython.core.display.Markdown object>"
      ]
     },
     "metadata": {},
     "output_type": "display_data"
    }
   ],
   "source": [
    "print_markdown(result['response'])"
   ]
  },
  {
   "cell_type": "code",
   "execution_count": 17,
   "metadata": {},
   "outputs": [],
   "source": [
    "# Basic approach to read the stream\n",
    "def display_stream(event_stream):\n",
    "    for event in event_stream:\n",
    "        if 'trace' in event:\n",
    "            trace = event['trace']\n",
    "            print(trace)\n",
    "            \n",
    "# More detailed approach with formatting\n",
    "def display_stream_detailed(event_stream):\n",
    "    for event in event_stream:\n",
    "        if 'trace' in event:\n",
    "            trace = event['trace']\n",
    "            print(\"-\" * 50)\n",
    "            print(f\"Type: {trace.get('type', 'N/A')}\")\n",
    "            print(f\"Content: {trace.get('content', 'N/A')}\")\n",
    "            print(f\"Timestamp: {trace.get('timestamp', 'N/A')}\")\n",
    "\n",
    "# If you want to collect events while displaying\n",
    "def collect_and_display_stream(event_stream):\n",
    "    events = []\n",
    "    for event in event_stream:\n",
    "        if 'trace' in event:\n",
    "            trace = event['trace']\n",
    "            print(f\"Received event: {trace.get('type', 'N/A')}\")\n",
    "            events.append(trace)\n",
    "    return events\n",
    "\n",
    "# Using with async/await (if the stream is asynchronous)\n",
    "async def display_async_stream(event_stream):\n",
    "    async for event in event_stream:\n",
    "        if 'trace' in event:\n",
    "            trace = event['trace']\n",
    "            print(trace)\n"
   ]
  },
  {
   "cell_type": "code",
   "execution_count": 21,
   "metadata": {},
   "outputs": [
    {
     "data": {
      "text/plain": [
       "<coroutine object display_async_stream at 0x117768190>"
      ]
     },
     "execution_count": 21,
     "metadata": {},
     "output_type": "execute_result"
    }
   ],
   "source": [
    "display_async_stream(result['trace'])"
   ]
  },
  {
   "cell_type": "code",
   "execution_count": 22,
   "metadata": {},
   "outputs": [
    {
     "data": {
      "text/plain": [
       "<botocore.eventstream.EventStream at 0x1171b61a0>"
      ]
     },
     "execution_count": 22,
     "metadata": {},
     "output_type": "execute_result"
    }
   ],
   "source": [
    "result['trace']"
   ]
  },
  {
   "cell_type": "code",
   "execution_count": 23,
   "metadata": {},
   "outputs": [
    {
     "name": "stdout",
     "output_type": "stream",
     "text": [
      "\n",
      "=== Final Response ===\n",
      "None\n",
      "\n",
      "=== All Traces ===\n"
     ]
    },
    {
     "data": {
      "application/json": "",
      "text/plain": [
       "<IPython.core.display.JSON object>"
      ]
     },
     "metadata": {
      "application/json": {
       "expanded": false,
       "root": "root"
      }
     },
     "output_type": "display_data"
    }
   ],
   "source": [
    "def process_bedrock_stream(event_stream):\n",
    "    final_response = None\n",
    "    all_traces = []\n",
    "    \n",
    "    try:\n",
    "        for event in event_stream:\n",
    "            if 'chunk' in event:\n",
    "                # Process response chunks\n",
    "                data = event['chunk']['bytes']\n",
    "                final_response = data.decode('utf-8')\n",
    "                print(\"\\nResponse chunk:\", final_response)\n",
    "                \n",
    "            elif 'trace' in event:\n",
    "                # Process trace events\n",
    "                trace_data = event['trace']\n",
    "                all_traces.append(trace_data)\n",
    "                print(\"\\nTrace event:\", json.dumps(trace_data, indent=2))\n",
    "                \n",
    "            else:\n",
    "                print(\"\\nUnknown event type:\", event)\n",
    "                \n",
    "        return {\n",
    "            \"final_response\": final_response,\n",
    "            \"traces\": all_traces\n",
    "        }\n",
    "        \n",
    "    except Exception as e:\n",
    "        print(f\"Error processing stream: {str(e)}\")\n",
    "        return None\n",
    "\n",
    "# Using in a notebook\n",
    "from IPython.display import JSON, display\n",
    "\n",
    "def display_stream_results(event_stream):\n",
    "    results = process_bedrock_stream(event_stream)\n",
    "    \n",
    "    if results:\n",
    "        print(\"\\n=== Final Response ===\")\n",
    "        print(results[\"final_response\"])\n",
    "        \n",
    "        print(\"\\n=== All Traces ===\")\n",
    "        display(JSON(results[\"traces\"]))\n",
    "\n",
    "# Use it with your event stream\n",
    "event_stream = result['trace']\n",
    "display_stream_results(event_stream)\n"
   ]
  },
  {
   "cell_type": "code",
   "execution_count": null,
   "metadata": {},
   "outputs": [],
   "source": []
  }
 ],
 "metadata": {
  "kernelspec": {
   "display_name": "aws_p3.10",
   "language": "python",
   "name": "python3"
  },
  "language_info": {
   "codemirror_mode": {
    "name": "ipython",
    "version": 3
   },
   "file_extension": ".py",
   "mimetype": "text/x-python",
   "name": "python",
   "nbconvert_exporter": "python",
   "pygments_lexer": "ipython3",
   "version": "3.10.14"
  }
 },
 "nbformat": 4,
 "nbformat_minor": 2
}
