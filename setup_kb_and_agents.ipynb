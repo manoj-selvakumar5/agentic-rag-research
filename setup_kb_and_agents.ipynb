{
 "cells": [
  {
   "cell_type": "code",
   "execution_count": 1,
   "metadata": {},
   "outputs": [
    {
     "name": "stdout",
     "output_type": "stream",
     "text": [
      "Current boto3 version: 1.35.90\n"
     ]
    }
   ],
   "source": [
    "import boto3\n",
    "print(f\"Current boto3 version: {boto3.__version__}\")"
   ]
  },
  {
   "cell_type": "code",
   "execution_count": 2,
   "metadata": {},
   "outputs": [
    {
     "name": "stdout",
     "output_type": "stream",
     "text": [
      "AWS Region: us-east-1\n",
      "Account ID: 533267284022\n",
      "Suffix: ue1-533\n"
     ]
    }
   ],
   "source": [
    "import os\n",
    "import time\n",
    "import boto3\n",
    "import json\n",
    "\n",
    "# Initialize AWS clients\n",
    "s3_client = boto3.client('s3')\n",
    "sts_client = boto3.client('sts')\n",
    "session = boto3.session.Session()\n",
    "region = session.region_name\n",
    "account_id = sts_client.get_caller_identity()[\"Account\"]\n",
    "bedrock_agent_client = boto3.client('bedrock-agent')\n",
    "bedrock_agent_runtime_client = boto3.client('bedrock-agent-runtime')\n",
    "bedrock_runtime_client = boto3.client('bedrock-runtime', region_name=region)\n",
    "\n",
    "# Generate a unique suffix using the current timestamp\n",
    "# timestamp_str = time.strftime(\"%Y%m%d%H%M%S\", time.localtime(time.time()))[-3:]\n",
    "# suffix = f\"{timestamp_str}\"\n",
    "\n",
    "account_id_suffix = account_id[:3]\n",
    "region_suffix = ''.join([word[0] for word in region.split('-')])\n",
    "suffix = f\"{region_suffix}-{account_id_suffix}\"\n",
    "\n",
    "# Define Knowledge Base parameters\n",
    "knowledge_base_name_standard = 'fixed-size-chunk-kb'\n",
    "knowledge_base_name_hierarchical = 'hierarchical-chunk-kb'\n",
    "knowledge_base_description = \"Knowledge Base containing Amazon 10k financial documents\"\n",
    "\n",
    "print(f\"AWS Region: {region}\", f\"Account ID: {account_id}\", f\"Suffix: {suffix}\", sep='\\n')"
   ]
  },
  {
   "cell_type": "code",
   "execution_count": 3,
   "metadata": {},
   "outputs": [],
   "source": [
    "from utils.knowledgebase import BedrockKnowledgeBases\n",
    "from utils.agents import BedrockAgents\n",
    "from utils.agents import AWSResourceManager\n",
    "from utils.chat import BedrockChat, SyntheticDataGenerator\n",
    "from IPython.display import Markdown, display\n",
    "\n",
    "def print_markdown(text):\n",
    "    display(Markdown(text))\n",
    "\n",
    "    \n",
    "kb = BedrockKnowledgeBases()\n",
    "agents = BedrockAgents()"
   ]
  },
  {
   "cell_type": "markdown",
   "metadata": {},
   "source": [
    "## Create Knowledge Base\n",
    "\n",
    "##### To test the performance of Knowledge base's `Retrieve` and `RetrieveAndGenerate` APIs"
   ]
  },
  {
   "cell_type": "code",
   "execution_count": 4,
   "metadata": {},
   "outputs": [
    {
     "name": "stdout",
     "output_type": "stream",
     "text": [
      "2025-01-08 15:27:34,311 [INFO] ================================================================\n",
      "2025-01-08 15:27:34,312 [INFO] Step 1: Create S3 bucket\n",
      "2025-01-08 15:27:34,313 [INFO] Creating S3 bucket: amazon-10k-kb-ue1-533-bucket\n",
      "2025-01-08 15:27:34,707 [INFO] Created S3 bucket: amazon-10k-kb-ue1-533-bucket\n",
      "2025-01-08 15:27:34,708 [INFO] ================================================================\n",
      "2025-01-08 15:27:34,708 [INFO] Step 2: Create KB execution role\n",
      "2025-01-08 15:27:34,709 [INFO] Creating Bedrock KB execution role: amazon-10k-kb-ue1-533-execution-role\n",
      "2025-01-08 15:27:35,584 [INFO] ================================================================\n",
      "2025-01-08 15:27:35,586 [INFO] Step 3: Create AOSS encryption/network/access policies\n",
      "2025-01-08 15:27:35,587 [INFO] Creating encryption, network, and access policies for azon-10k-kb-ue1-533-vector-store\n",
      "2025-01-08 15:27:36,283 [INFO] Created AOSS policies: b-ue1-533-vector-store-en-policy, b-ue1-533-vector-store-ne-policy, b-ue1-533-vector-store-ac-policy\n",
      "2025-01-08 15:27:36,285 [INFO] ================================================================\n",
      "2025-01-08 15:27:36,286 [INFO] Step 4: Create AOSS collection\n",
      "2025-01-08 15:27:36,287 [INFO] Creating AOSS collection: azon-10k-kb-ue1-533-vector-store\n",
      "2025-01-08 15:27:36,878 [INFO] Collection is still creating, waiting 60 seconds...\n",
      "............................................................\n",
      "2025-01-08 15:28:37,233 [INFO] Collection is still creating, waiting 60 seconds...\n",
      "............................................................\n",
      "2025-01-08 15:29:37,585 [INFO] Collection is still creating, waiting 60 seconds...\n",
      "............................................................\n",
      "2025-01-08 15:30:37,934 [INFO] Collection is still creating, waiting 60 seconds...\n",
      "............................................................\n",
      "2025-01-08 15:31:38,268 [INFO] Collection is active\n",
      "2025-01-08 15:31:38,752 [INFO] Successfully attached AOSS policy to amazon-10k-kb-ue1-533-execution-role\n",
      "2025-01-08 15:31:38,753 [INFO] Sleeping 60 seconds to allow AOSS policy to propagate\n",
      "............................................................\n",
      "2025-01-08 15:32:39,005 [INFO] ================================================================\n",
      "2025-01-08 15:32:39,005 [INFO] Step 5: Initialize OpenSearch client and create index\n",
      "2025-01-08 15:32:39,006 [INFO] Initialized OpenSearch client\n",
      "2025-01-08 15:32:39,006 [INFO] Creating index: azon-10k-kb-ue1-533-vector-store-index\n",
      "2025-01-08 15:32:39,724 [INFO] Create index response: {'acknowledged': True, 'shards_acknowledged': True, 'index': 'azon-10k-kb-ue1-533-vector-store-index'}\n",
      "............................................................\n",
      "2025-01-08 15:33:39,960 [INFO] ================================================================\n",
      "2025-01-08 15:33:39,961 [INFO] Step 6: Create Bedrock KB and data source\n",
      "2025-01-08 15:33:39,962 [INFO] Creating Bedrock Knowledge Base: amazon-10k-kb\n",
      "2025-01-08 15:33:39,963 [INFO] Building config for OpenSearch Serverless with arn:aws:aoss:us-east-1:533267284022:collection/r1irhyoecvn78ab9sgc5, azon-10k-kb-ue1-533-vector-store-index\n",
      "2025-01-08 15:33:41,066 [INFO] Created KB: {'createdAt': datetime.datetime(2025, 1, 8, 23, 33, 40, 308504, tzinfo=tzutc()), 'description': 'Knowledge Base containing Amazon 10K documents', 'knowledgeBaseArn': 'arn:aws:bedrock:us-east-1:533267284022:knowledge-base/RZJXH5WHWU', 'knowledgeBaseConfiguration': {'type': 'VECTOR', 'vectorKnowledgeBaseConfiguration': {'embeddingModelArn': 'arn:aws:bedrock:us-east-1::foundation-model/amazon.titan-embed-text-v2:0'}}, 'knowledgeBaseId': 'RZJXH5WHWU', 'name': 'amazon-10k-kb', 'roleArn': 'arn:aws:iam::533267284022:role/amazon-10k-kb-ue1-533-execution-role', 'status': 'CREATING', 'storageConfiguration': {'opensearchServerlessConfiguration': {'collectionArn': 'arn:aws:aoss:us-east-1:533267284022:collection/r1irhyoecvn78ab9sgc5', 'fieldMapping': {'metadataField': 'text-metadata', 'textField': 'text', 'vectorField': 'vector'}, 'vectorIndexName': 'azon-10k-kb-ue1-533-vector-store-index'}, 'type': 'OPENSEARCH_SERVERLESS'}, 'updatedAt': datetime.datetime(2025, 1, 8, 23, 33, 40, 308504, tzinfo=tzutc())}\n",
      "2025-01-08 15:33:41,230 [INFO] Created data source: {'createdAt': datetime.datetime(2025, 1, 8, 23, 33, 41, 229743, tzinfo=tzutc()), 'dataDeletionPolicy': 'RETAIN', 'dataSourceConfiguration': {'s3Configuration': {'bucketArn': 'arn:aws:s3:::amazon-10k-kb-ue1-533-bucket'}, 'type': 'S3'}, 'dataSourceId': 'KS6SL2YJ2K', 'description': 'Knowledge Base containing Amazon 10K documents', 'knowledgeBaseId': 'RZJXH5WHWU', 'name': 'amazon-10k-kb', 'status': 'AVAILABLE', 'updatedAt': datetime.datetime(2025, 1, 8, 23, 33, 41, 229743, tzinfo=tzutc()), 'vectorIngestionConfiguration': {'chunkingConfiguration': {'chunkingStrategy': 'FIXED_SIZE', 'fixedSizeChunkingConfiguration': {'maxTokens': 512, 'overlapPercentage': 20}}}}\n",
      "2025-01-08 15:33:41,231 [INFO] ================================================================\n",
      "2025-01-08 15:33:41,232 [INFO] KB created successfully! KB ID: RZJXH5WHWU, DS ID: KS6SL2YJ2K\n"
     ]
    }
   ],
   "source": [
    "kb_name = 'amazon-10k-kb'\n",
    "vector_store = 'OPENSEARCH_SERVERLESS'\n",
    "embedding_model = 'amazon.titan-embed-text-v2:0'\n",
    "\n",
    "kb_id, ds_id, bucket_name = kb.create_knowledge_base(\n",
    "    kb_name=kb_name, \n",
    "    kb_description='Knowledge Base containing Amazon 10K documents',\n",
    "    vector_store=vector_store,\n",
    "    embedding_model=embedding_model,\n",
    "    suffix=suffix\n",
    ")"
   ]
  },
  {
   "cell_type": "code",
   "execution_count": 5,
   "metadata": {},
   "outputs": [
    {
     "name": "stdout",
     "output_type": "stream",
     "text": [
      "Knowledge base ID: RZJXH5WHWU, Data source ID: KS6SL2YJ2K, Bucket name: amazon-10k-kb-ue1-533-bucket\n"
     ]
    }
   ],
   "source": [
    "print(f\"Knowledge base ID: {kb_id}, Data source ID: {ds_id}, Bucket name: {bucket_name}\")"
   ]
  },
  {
   "cell_type": "code",
   "execution_count": 6,
   "metadata": {},
   "outputs": [],
   "source": [
    "# Delete the Knowledge Base and all assoicated resources based on kb name and suffix\n",
    "# kb.delete_knowledge_base_resources_by_name(kb_name=kb_name, suffix=suffix)"
   ]
  },
  {
   "cell_type": "markdown",
   "metadata": {},
   "source": [
    "### Upload KB documents to S3  "
   ]
  },
  {
   "cell_type": "code",
   "execution_count": 7,
   "metadata": {},
   "outputs": [
    {
     "name": "stdout",
     "output_type": "stream",
     "text": [
      "Uploading kb_documents/AMAZON_2022_10K.pdf to amazon-10k-kb-ue1-533-bucket\n"
     ]
    }
   ],
   "source": [
    "def upload_documents_to_s3(bucket_name, folder_path):\n",
    "    s3_client = boto3.client('s3', region_name=region)\n",
    "    for root, dirs, files in os.walk(folder_path):\n",
    "        for file in files:\n",
    "            file_path = os.path.join(root, file)\n",
    "            if file not in [\"LICENSE\", \"NOTICE\", \"README.md\"]:\n",
    "                print(f\"Uploading {file_path} to {bucket_name}\")\n",
    "                s3_client.upload_file(file_path, bucket_name, file)\n",
    "            else:\n",
    "                print(f\"Skipping {file_path}\")\n",
    "\n",
    "# Example usage\n",
    "upload_documents_to_s3(bucket_name, \"kb_documents\")"
   ]
  },
  {
   "cell_type": "markdown",
   "metadata": {},
   "source": [
    "### Initiate Knowledge Base Data Ingestion "
   ]
  },
  {
   "cell_type": "code",
   "execution_count": 8,
   "metadata": {},
   "outputs": [
    {
     "name": "stdout",
     "output_type": "stream",
     "text": [
      "2025-01-08 15:33:43,629 [INFO] Starting data synchronization for KB ID: RZJXH5WHWU and DS ID: KS6SL2YJ2K\n",
      "2025-01-08 15:33:44,760 [INFO] Started ingestion job: {'dataSourceId': 'KS6SL2YJ2K', 'ingestionJobId': 'JN2Q9VXWQ8', 'knowledgeBaseId': 'RZJXH5WHWU', 'startedAt': datetime.datetime(2025, 1, 8, 23, 33, 44, 756897, tzinfo=tzutc()), 'statistics': {'numberOfDocumentsDeleted': 0, 'numberOfDocumentsFailed': 0, 'numberOfDocumentsScanned': 0, 'numberOfMetadataDocumentsModified': 0, 'numberOfMetadataDocumentsScanned': 0, 'numberOfModifiedDocumentsIndexed': 0, 'numberOfNewDocumentsIndexed': 0}, 'status': 'STARTING', 'updatedAt': datetime.datetime(2025, 1, 8, 23, 33, 44, 756897, tzinfo=tzutc())}\n",
      "2025-01-08 15:33:44,891 [INFO] Ingestion job status: STARTING\n",
      ".....\n",
      "2025-01-08 15:33:50,097 [INFO] Ingestion job status: IN_PROGRESS\n",
      ".....\n",
      "2025-01-08 15:33:55,266 [INFO] Ingestion job status: IN_PROGRESS\n",
      ".....\n",
      "2025-01-08 15:34:00,435 [INFO] Ingestion job status: COMPLETE\n",
      ".....\n",
      "2025-01-08 15:34:05,464 [INFO] Final ingestion job status: COMPLETE\n",
      "2025-01-08 15:34:05,466 [INFO] Here are the job details:{\n",
      "  \"dataSourceId\": \"KS6SL2YJ2K\",\n",
      "  \"ingestionJobId\": \"JN2Q9VXWQ8\",\n",
      "  \"knowledgeBaseId\": \"RZJXH5WHWU\",\n",
      "  \"startedAt\": \"2025-01-08T23:33:44.756897+00:00\",\n",
      "  \"statistics\": {\n",
      "    \"numberOfDocumentsDeleted\": 0,\n",
      "    \"numberOfDocumentsFailed\": 0,\n",
      "    \"numberOfDocumentsScanned\": 1,\n",
      "    \"numberOfMetadataDocumentsModified\": 0,\n",
      "    \"numberOfMetadataDocumentsScanned\": 0,\n",
      "    \"numberOfModifiedDocumentsIndexed\": 0,\n",
      "    \"numberOfNewDocumentsIndexed\": 1\n",
      "  },\n",
      "  \"status\": \"COMPLETE\",\n",
      "  \"updatedAt\": \"2025-01-08T23:33:55.897996+00:00\"\n",
      "}\n"
     ]
    }
   ],
   "source": [
    "kb.synchronize_data(kb_id=kb_id, ds_id=ds_id)"
   ]
  },
  {
   "cell_type": "markdown",
   "metadata": {},
   "source": [
    "## Create Agent Integrated with Knowledge Base\n",
    "\n",
    "##### To test the performance of an agent when integrated with the knowledge base."
   ]
  },
  {
   "cell_type": "code",
   "execution_count": 9,
   "metadata": {},
   "outputs": [
    {
     "name": "stdout",
     "output_type": "stream",
     "text": [
      "Agent name: rag-agent-ue1-533\n"
     ]
    }
   ],
   "source": [
    "agent_name=f'rag-agent-{suffix}'\n",
    "print('Agent name:', agent_name)"
   ]
  },
  {
   "cell_type": "code",
   "execution_count": 10,
   "metadata": {},
   "outputs": [],
   "source": [
    "agent_description = \"\"\"You are a versatile AI assistant that combines provided context with general knowledge to deliver accurate, \n",
    "well-sourced information and solutions to questions across various domains.\"\"\"\n",
    "\n",
    "\n",
    "agent_instruction = \"\"\"You are a General AI Assistant helping users with diverse tasks and questions across multiple domains. Your role is to \n",
    "leverage both your general expertise and context-based knowledge retrieved in real-time to provide accurate, relevant, and up-to-date information. You are capable of \n",
    "answering questions with clear explanations on a broad range of topics, including but not limited to technology, science, health, finance, and general knowledge.\n",
    "\n",
    "Response style:\n",
    "1. Maintain a professional yet friendly tone\n",
    "2. Use clear, straightforward language\n",
    "3. Focus on practical, actionable solutions\n",
    "4. Structure responses logically and concisely\n",
    "5. Break down complex concepts simply\n",
    "6. Stay relevant to user queries\n",
    "7. Avoid unnecessary information\n",
    "8. Ensure a natural conversation flow\n",
    "9. Use available information before asking questions\n",
    "10. Do not directly quote or mention that the information is from the context.\"\"\"\n"
   ]
  },
  {
   "cell_type": "code",
   "execution_count": 13,
   "metadata": {},
   "outputs": [
    {
     "name": "stdout",
     "output_type": "stream",
     "text": [
      "2025-01-08 15:39:35,755 [INFO] Creating IAM role: rag-agent-ue1-533-exec-role\n",
      "2025-01-08 15:39:35,880 [INFO] Created IAM role: arn:aws:iam::533267284022:role/rag-agent-ue1-533-exec-role\n",
      "2025-01-08 15:39:41,104 [INFO] Created managed policy: arn:aws:iam::533267284022:policy/rag-agent-ue1-533-AmazonBedrockAgentModelAccessPolicy\n",
      "2025-01-08 15:39:41,232 [INFO] Attached policy 'rag-agent-ue1-533-AmazonBedrockAgentModelAccessPolicy' to role 'rag-agent-ue1-533-exec-role'\n",
      "2025-01-08 15:39:41,435 [INFO] Created agent: KPJOGYOMCS\n",
      "2025-01-08 15:39:56,441 [INFO] Updating policy 'rag-agent-ue1-533-AmazonBedrockAgentKBAccessPolicy' for role 'arn:aws:iam::533267284022:role/rag-agent-ue1-533-exec-role'\n",
      "2025-01-08 15:39:56,658 [INFO] Created new policy: rag-agent-ue1-533-AmazonBedrockAgentKBAccessPolicy\n",
      "2025-01-08 15:39:56,793 [INFO] Attached policy 'rag-agent-ue1-533-AmazonBedrockAgentKBAccessPolicy' to role 'rag-agent-ue1-533-exec-role'\n",
      "2025-01-08 15:39:56,794 [INFO] Associating agent 'KPJOGYOMCS' with knowledge base 'RZJXH5WHWU'\n",
      "2025-01-08 15:39:57,015 [INFO] Associated agent 'KPJOGYOMCS' with KB 'RZJXH5WHWU'\n",
      "2025-01-08 15:39:57,016 [INFO] Response: {'ResponseMetadata': {'RequestId': '7ee22d1f-d84e-4911-959a-41b3f024ebde', 'HTTPStatusCode': 200, 'HTTPHeaders': {'date': 'Wed, 08 Jan 2025 23:39:57 GMT', 'content-type': 'application/json', 'content-length': '311', 'connection': 'keep-alive', 'x-amzn-requestid': '7ee22d1f-d84e-4911-959a-41b3f024ebde', 'x-amz-apigw-id': 'EF7wEEK2IAMEJ3Q=', 'x-amzn-trace-id': 'Root=1-677f0ccc-2bcaf63f75baf4a81976a24e'}, 'RetryAttempts': 0}, 'agentKnowledgeBase': {'createdAt': datetime.datetime(2025, 1, 8, 23, 39, 56, 988458, tzinfo=tzutc()), 'description': \"Use this knowledge base to provide responses to user queries on Amazon's financial performance and business activities\", 'knowledgeBaseId': 'RZJXH5WHWU', 'knowledgeBaseState': 'ENABLED', 'updatedAt': datetime.datetime(2025, 1, 8, 23, 39, 56, 988458, tzinfo=tzutc())}}\n",
      "2025-01-08 15:39:57,136 [INFO] Waiting for agent rag-agent-ue1-533 to reach state NOT_PREPARED...\n",
      "..........\n",
      "2025-01-08 15:40:07,183 [INFO] Getting status for agent 'rag-agent-ue1-533'\n",
      "2025-01-08 15:40:07,491 [INFO] Agent 'rag-agent-ue1-533' status: {'agentId': 'KPJOGYOMCS', 'agentName': 'rag-agent-ue1-533', 'agentStatus': 'NOT_PREPARED', 'foundationModel': 'anthropic.claude-3-sonnet-20240229-v1:0', 'agentCollaboration': 'DISABLED', 'orchestrationType': 'DEFAULT', 'createdAt': datetime.datetime(2025, 1, 8, 23, 39, 41, 410378, tzinfo=tzutc()), 'lastUpdatedAt': datetime.datetime(2025, 1, 8, 23, 39, 41, 841053, tzinfo=tzutc())}\n",
      "2025-01-08 15:40:07,491 [INFO] Agent status info: {'agentId': 'KPJOGYOMCS', 'agentName': 'rag-agent-ue1-533', 'agentStatus': 'NOT_PREPARED', 'foundationModel': 'anthropic.claude-3-sonnet-20240229-v1:0', 'agentCollaboration': 'DISABLED', 'orchestrationType': 'DEFAULT', 'createdAt': datetime.datetime(2025, 1, 8, 23, 39, 41, 410378, tzinfo=tzutc()), 'lastUpdatedAt': datetime.datetime(2025, 1, 8, 23, 39, 41, 841053, tzinfo=tzutc())}\n",
      "2025-01-08 15:40:07,491 [INFO] Agent in NOT_PREPARED state...\n",
      "..........\n",
      "2025-01-08 15:40:17,536 [INFO] Getting status for agent 'rag-agent-ue1-533'\n",
      "2025-01-08 15:40:17,782 [INFO] Agent 'rag-agent-ue1-533' status: {'agentId': 'KPJOGYOMCS', 'agentName': 'rag-agent-ue1-533', 'agentStatus': 'NOT_PREPARED', 'foundationModel': 'anthropic.claude-3-sonnet-20240229-v1:0', 'agentCollaboration': 'DISABLED', 'orchestrationType': 'DEFAULT', 'createdAt': datetime.datetime(2025, 1, 8, 23, 39, 41, 410378, tzinfo=tzutc()), 'lastUpdatedAt': datetime.datetime(2025, 1, 8, 23, 39, 41, 841053, tzinfo=tzutc())}\n",
      "2025-01-08 15:40:17,783 [INFO] Agent in NOT_PREPARED state, waiting for NOT_PREPARED... (attempt 1/100)\n",
      "2025-01-08 15:40:17,987 [INFO] Added code interpreter to agent 'rag-agent-ue1-533'\n",
      "2025-01-08 15:40:17,988 [INFO] Waiting for agent rag-agent-ue1-533 to reach state NOT_PREPARED...\n",
      "..........\n",
      "2025-01-08 15:40:28,036 [INFO] Getting status for agent 'rag-agent-ue1-533'\n",
      "2025-01-08 15:40:28,258 [INFO] Agent 'rag-agent-ue1-533' status: {'agentId': 'KPJOGYOMCS', 'agentName': 'rag-agent-ue1-533', 'agentStatus': 'NOT_PREPARED', 'foundationModel': 'anthropic.claude-3-sonnet-20240229-v1:0', 'agentCollaboration': 'DISABLED', 'orchestrationType': 'DEFAULT', 'createdAt': datetime.datetime(2025, 1, 8, 23, 39, 41, 410378, tzinfo=tzutc()), 'lastUpdatedAt': datetime.datetime(2025, 1, 8, 23, 39, 41, 841053, tzinfo=tzutc())}\n",
      "2025-01-08 15:40:28,259 [INFO] Agent status info: {'agentId': 'KPJOGYOMCS', 'agentName': 'rag-agent-ue1-533', 'agentStatus': 'NOT_PREPARED', 'foundationModel': 'anthropic.claude-3-sonnet-20240229-v1:0', 'agentCollaboration': 'DISABLED', 'orchestrationType': 'DEFAULT', 'createdAt': datetime.datetime(2025, 1, 8, 23, 39, 41, 410378, tzinfo=tzutc()), 'lastUpdatedAt': datetime.datetime(2025, 1, 8, 23, 39, 41, 841053, tzinfo=tzutc())}\n",
      "2025-01-08 15:40:28,259 [INFO] Agent in NOT_PREPARED state...\n",
      "..........\n",
      "2025-01-08 15:40:38,305 [INFO] Getting status for agent 'rag-agent-ue1-533'\n",
      "2025-01-08 15:40:38,543 [INFO] Agent 'rag-agent-ue1-533' status: {'agentId': 'KPJOGYOMCS', 'agentName': 'rag-agent-ue1-533', 'agentStatus': 'NOT_PREPARED', 'foundationModel': 'anthropic.claude-3-sonnet-20240229-v1:0', 'agentCollaboration': 'DISABLED', 'orchestrationType': 'DEFAULT', 'createdAt': datetime.datetime(2025, 1, 8, 23, 39, 41, 410378, tzinfo=tzutc()), 'lastUpdatedAt': datetime.datetime(2025, 1, 8, 23, 39, 41, 841053, tzinfo=tzutc())}\n",
      "2025-01-08 15:40:38,544 [INFO] Agent in NOT_PREPARED state, waiting for NOT_PREPARED... (attempt 1/100)\n",
      "..........\n",
      "2025-01-08 15:40:48,918 [INFO] Getting status for agent 'rag-agent-ue1-533'\n",
      "2025-01-08 15:40:49,172 [INFO] Agent 'rag-agent-ue1-533' status: {'agentId': 'KPJOGYOMCS', 'agentName': 'rag-agent-ue1-533', 'agentStatus': 'PREPARED', 'foundationModel': 'anthropic.claude-3-sonnet-20240229-v1:0', 'agentCollaboration': 'DISABLED', 'orchestrationType': 'DEFAULT', 'createdAt': datetime.datetime(2025, 1, 8, 23, 39, 41, 410378, tzinfo=tzutc()), 'lastUpdatedAt': datetime.datetime(2025, 1, 8, 23, 39, 41, 841053, tzinfo=tzutc())}\n",
      "2025-01-08 15:40:49,174 [INFO] Agent rag-agent-ue1-533 is now prepared\n"
     ]
    }
   ],
   "source": [
    "rag_agent = agents.create_bedrock_agent(\n",
    "    agent_name=agent_name, \n",
    "    agent_description=agent_description,\n",
    "    agent_instructions=agent_instruction,\n",
    "    model_id=\"anthropic.claude-3-sonnet-20240229-v1:0\", # TODO: Should this be a list?\n",
    "    kb_id=kb_id,\n",
    "    associate_kb=True,\n",
    "    code_interpreter=True,  # Enabling code interpreter to make the agent use instructions\n",
    "    kb_usage_description=\"Use this knowledge base to provide responses to user queries on Amazon's financial performance and business activities\",\n",
    "    verbose=True\n",
    "    )\n"
   ]
  },
  {
   "cell_type": "code",
   "execution_count": 14,
   "metadata": {},
   "outputs": [
    {
     "name": "stdout",
     "output_type": "stream",
     "text": [
      "..........\n",
      "2025-01-08 15:44:13,075 [INFO] Getting status for agent 'rag-agent-ue1-533'\n",
      "2025-01-08 15:44:13,341 [INFO] Agent 'rag-agent-ue1-533' status: {'agentId': 'KPJOGYOMCS', 'agentName': 'rag-agent-ue1-533', 'agentStatus': 'PREPARED', 'foundationModel': 'anthropic.claude-3-sonnet-20240229-v1:0', 'agentCollaboration': 'DISABLED', 'orchestrationType': 'DEFAULT', 'createdAt': datetime.datetime(2025, 1, 8, 23, 39, 41, 410378, tzinfo=tzutc()), 'lastUpdatedAt': datetime.datetime(2025, 1, 8, 23, 39, 41, 841053, tzinfo=tzutc())}\n",
      "2025-01-08 15:44:13,342 [INFO] Agent rag-agent-ue1-533 is now prepared\n"
     ]
    }
   ],
   "source": [
    "agents.prepare_bedrock_agent(agent_name=agent_name, verbose=True)"
   ]
  },
  {
   "cell_type": "code",
   "execution_count": 12,
   "metadata": {},
   "outputs": [
    {
     "name": "stdout",
     "output_type": "stream",
     "text": [
      "2025-01-08 15:39:19,365 [INFO] Found agent 'rag-agent-ue1-533' with ID: LPBVM9TI8Z\n",
      "2025-01-08 15:39:19,366 [INFO] Deleting aliases for agent LPBVM9TI8Z...\n",
      "2025-01-08 15:39:19,491 [INFO] Deleting alias TSTALIASID from agent LPBVM9TI8Z\n",
      "2025-01-08 15:39:19,643 [INFO] Deleting action groups for agent LPBVM9TI8Z...\n",
      "2025-01-08 15:39:19,776 [INFO] Deleting action group 'CodeInterpreterAction' (ID: LUFRZUP8VW) from agent LPBVM9TI8Z\n",
      "2025-01-08 15:39:19,913 [INFO] Action group details: {'ResponseMetadata': {'RequestId': '084420e0-0446-4de4-bc36-795af417ae6a', 'HTTPStatusCode': 200, 'HTTPHeaders': {'date': 'Wed, 08 Jan 2025 23:39:19 GMT', 'content-type': 'application/json', 'content-length': '360', 'connection': 'keep-alive', 'x-amzn-requestid': '084420e0-0446-4de4-bc36-795af417ae6a', 'x-amz-apigw-id': 'EF7qSEHooAMEIlw=', 'x-amzn-trace-id': 'Root=1-677f0ca7-1d8da784630b2bd71380ec16'}, 'RetryAttempts': 0}, 'agentActionGroup': {'actionGroupId': 'LUFRZUP8VW', 'actionGroupName': 'CodeInterpreterAction', 'actionGroupState': 'ENABLED', 'agentId': 'LPBVM9TI8Z', 'agentVersion': 'DRAFT', 'clientToken': '256239d4-c8b2-4bc2-ac33-4afc164fbf36', 'createdAt': datetime.datetime(2025, 1, 8, 7, 35, 3, 483007, tzinfo=tzutc()), 'parentActionSignature': 'AMAZON.CodeInterpreter', 'updatedAt': datetime.datetime(2025, 1, 8, 7, 35, 3, 483007, tzinfo=tzutc())}}\n",
      "2025-01-08 15:39:19,914 [ERROR] Error deleting action groups: 'actionGroupExecutor'\n",
      "2025-01-08 15:39:19,914 [INFO] Deleting agent: LPBVM9TI8Z\n",
      ".....\n",
      ".....\n",
      "2025-01-08 15:39:30,118 [INFO] Deleted agent: LPBVM9TI8Z\n",
      "2025-01-08 15:39:30,120 [INFO] Deleting IAM role: rag-agent-ue1-533-exec-role\n",
      "2025-01-08 15:39:31,475 [INFO] Deleted role: rag-agent-ue1-533-exec-role\n"
     ]
    }
   ],
   "source": [
    "# agents.delete_bedrock_agent(agent_name=agent_name, delete_role=True, verbose=True)"
   ]
  },
  {
   "cell_type": "code",
   "execution_count": 15,
   "metadata": {},
   "outputs": [
    {
     "data": {
      "text/plain": [
       "('KPJOGYOMCS',\n",
       " 'TSTALIASID',\n",
       " 'arn:aws:bedrock:us-east-1:533267284022:agent-alias/KPJOGYOMCS/TSTALIASID')"
      ]
     },
     "execution_count": 15,
     "metadata": {},
     "output_type": "execute_result"
    }
   ],
   "source": [
    "rag_agent"
   ]
  },
  {
   "cell_type": "code",
   "execution_count": 17,
   "metadata": {},
   "outputs": [
    {
     "name": "stdout",
     "output_type": "stream",
     "text": [
      "Agent name: rag-agent-ue1-533\n",
      "Agent ID: KPJOGYOMCS\n",
      "Agent Alias ID: TSTALIASID\n"
     ]
    }
   ],
   "source": [
    "print(f\"Agent name: {agent_name}\", f\"Agent ID: {rag_agent[0]}\", f\"Agent Alias ID: {rag_agent[1]}\", sep='\\n')"
   ]
  },
  {
   "cell_type": "code",
   "execution_count": 10,
   "metadata": {},
   "outputs": [],
   "source": [
    "def retrieve_from_knowledge_base(knowledge_base_id, query, number_of_results=3):\n",
    "    response = bedrock_agent_runtime_client.retrieve(\n",
    "        knowledgeBaseId=knowledge_base_id,\n",
    "        retrievalQuery={\"text\": query},\n",
    "        retrievalConfiguration={\n",
    "            \"vectorSearchConfiguration\": {\n",
    "                \"numberOfResults\": number_of_results\n",
    "            }\n",
    "        }\n",
    "    )\n",
    "    return response['retrievalResults']"
   ]
  },
  {
   "cell_type": "code",
   "execution_count": 11,
   "metadata": {},
   "outputs": [],
   "source": [
    "system_prompt = \"\"\"Human: You are a versatile AI assistant. Your task is to combine the provided context with your general knowledge to deliver accurate, well-sourced information and solutions to questions across various domains. Use the context and your general expertise to answer user queries effectively.\n",
    "\n",
    "Here is the context and user's question:\n",
    "<context>\n",
    "$search_results$\n",
    "</context>\n",
    "\n",
    "<question>\n",
    "$query$\n",
    "</question>\n",
    "\n",
    "Your role is to leverage both your general expertise and context-based knowledge to provide accurate, relevant, and up-to-date information. Follow these guidelines in your responses:\n",
    "1. Maintain a professional yet friendly tone.\n",
    "2. Use clear, straightforward language.\n",
    "3. Focus on practical, actionable solutions.\n",
    "4. Structure responses logically and concisely.\n",
    "5. Break down complex concepts simply.\n",
    "6. Stay relevant to user queries.\n",
    "7. Avoid unnecessary information.\n",
    "8. Ensure a natural conversation flow.\n",
    "9. Use available information before asking questions.\n",
    "10. Do not directly quote or mention that the information is from the context.\n",
    "\n",
    "Assistant:\n",
    "\"\"\"\n"
   ]
  },
  {
   "cell_type": "code",
   "execution_count": 18,
   "metadata": {},
   "outputs": [],
   "source": [
    "# # Write to JSON file with proper formatting\n",
    "# with open('output.json', 'w') as f:\n",
    "#     json.dump(result['raw_trace'], f, indent=2)\n",
    "\n",
    "# # Print formatted JSON\n",
    "# print(json.dumps(result['raw_trace'], indent=2))"
   ]
  },
  {
   "cell_type": "code",
   "execution_count": null,
   "metadata": {},
   "outputs": [],
   "source": []
  }
 ],
 "metadata": {
  "kernelspec": {
   "display_name": "genai-on-aws-p3.8",
   "language": "python",
   "name": "python3"
  },
  "language_info": {
   "codemirror_mode": {
    "name": "ipython",
    "version": 3
   },
   "file_extension": ".py",
   "mimetype": "text/x-python",
   "name": "python",
   "nbconvert_exporter": "python",
   "pygments_lexer": "ipython3",
   "version": "3.8.18"
  }
 },
 "nbformat": 4,
 "nbformat_minor": 2
}
