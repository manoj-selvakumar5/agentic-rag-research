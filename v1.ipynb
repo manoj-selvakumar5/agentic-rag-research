{
 "cells": [
  {
   "cell_type": "code",
   "execution_count": 1,
   "metadata": {},
   "outputs": [
    {
     "name": "stdout",
     "output_type": "stream",
     "text": [
      "Current boto3 version: 1.35.94\n"
     ]
    }
   ],
   "source": [
    "import boto3\n",
    "print(f\"Current boto3 version: {boto3.__version__}\")"
   ]
  },
  {
   "cell_type": "code",
   "execution_count": 2,
   "metadata": {},
   "outputs": [
    {
     "name": "stdout",
     "output_type": "stream",
     "text": [
      "AWS Region: us-east-1\n",
      "Account ID: 533267284022\n",
      "Suffix: ue1-533\n"
     ]
    }
   ],
   "source": [
    "import os\n",
    "import time\n",
    "import boto3\n",
    "import json\n",
    "\n",
    "# Initialize AWS clients\n",
    "s3_client = boto3.client('s3')\n",
    "sts_client = boto3.client('sts')\n",
    "session = boto3.session.Session()\n",
    "region = session.region_name\n",
    "account_id = sts_client.get_caller_identity()[\"Account\"]\n",
    "bedrock_agent_client = boto3.client('bedrock-agent')\n",
    "bedrock_agent_runtime_client = boto3.client('bedrock-agent-runtime')\n",
    "bedrock_runtime_client = boto3.client('bedrock-runtime', region_name=region)\n",
    "\n",
    "# # Configure logging\n",
    "# logging.basicConfig(format='[%(asctime)s] %(levelname)s - %(message)s', level=logging.INFO)\n",
    "# logger = logging.getLogger(__name__)\n",
    "\n",
    "# Generate a unique suffix using the current timestamp\n",
    "# timestamp_str = time.strftime(\"%Y%m%d%H%M%S\", time.localtime(time.time()))[-3:]\n",
    "# suffix = f\"{timestamp_str}\"\n",
    "\n",
    "account_id_suffix = account_id[:3]\n",
    "region_suffix = ''.join([word[0] for word in region.split('-')])\n",
    "suffix = f\"{region_suffix}-{account_id_suffix}\"\n",
    "\n",
    "# Define Knowledge Base parameters\n",
    "knowledge_base_name_standard = 'fixed-size-chunk-kb'\n",
    "knowledge_base_name_hierarchical = 'hierarchical-chunk-kb'\n",
    "knowledge_base_description = \"Knowledge Base containing sample synthetic Octank financial data\"\n",
    "# bucket_name = f'octank-financial-data-source-{suffix}'\n",
    "\n",
    "print(f\"AWS Region: {region}\", f\"Account ID: {account_id}\", f\"Suffix: {suffix}\", sep='\\n')"
   ]
  },
  {
   "cell_type": "code",
   "execution_count": 3,
   "metadata": {},
   "outputs": [],
   "source": [
    "from utils.knowledgebase import BedrockKnowledgeBases\n",
    "from utils.agents import BedrockAgents\n",
    "from utils.agents import AWSResourceManager\n",
    "from utils.chat import BedrockChat, SyntheticDataGenerator\n",
    "from IPython.display import Markdown, display\n",
    "\n",
    "def print_markdown(text):\n",
    "    display(Markdown(text))\n",
    "\n",
    "    \n",
    "kb = BedrockKnowledgeBases()\n",
    "agents = BedrockAgents()"
   ]
  },
  {
   "cell_type": "markdown",
   "metadata": {},
   "source": [
    "## Create Knowledge Base"
   ]
  },
  {
   "cell_type": "code",
   "execution_count": 4,
   "metadata": {},
   "outputs": [
    {
     "name": "stdout",
     "output_type": "stream",
     "text": [
      "2025-01-07 15:31:24,997 [INFO] ================================================================\n",
      "2025-01-07 15:31:24,998 [INFO] Step 1: Create S3 bucket\n",
      "2025-01-07 15:31:24,999 [INFO] Creating S3 bucket: octank-financial-kb-ue1-533-bucket\n",
      "2025-01-07 15:31:25,496 [INFO] Created S3 bucket: octank-financial-kb-ue1-533-bucket\n",
      "2025-01-07 15:31:25,496 [INFO] ================================================================\n",
      "2025-01-07 15:31:25,496 [INFO] Step 2: Create KB execution role\n",
      "2025-01-07 15:31:25,497 [INFO] Creating Bedrock KB execution role: octank-financial-kb-ue1-533-execution-role\n",
      "2025-01-07 15:31:26,517 [INFO] ================================================================\n",
      "2025-01-07 15:31:26,518 [INFO] Step 3: Create AOSS encryption/network/access policies\n",
      "2025-01-07 15:31:26,520 [INFO] Creating encryption, network, and access policies for inancial-kb-ue1-533-vector-store\n",
      "2025-01-07 15:31:27,382 [INFO] Created AOSS policies: b-ue1-533-vector-store-en-policy, b-ue1-533-vector-store-ne-policy, b-ue1-533-vector-store-ac-policy\n",
      "2025-01-07 15:31:27,383 [INFO] ================================================================\n",
      "2025-01-07 15:31:27,383 [INFO] Step 4: Create AOSS collection\n",
      "2025-01-07 15:31:27,384 [INFO] Creating AOSS collection: inancial-kb-ue1-533-vector-store\n",
      "2025-01-07 15:31:27,983 [INFO] Collection is still creating, waiting 60 seconds...\n",
      "............................................................\n",
      "2025-01-07 15:32:28,335 [INFO] Collection is still creating, waiting 60 seconds...\n",
      "............................................................\n",
      "2025-01-07 15:33:28,700 [INFO] Collection is still creating, waiting 60 seconds...\n",
      "............................................................\n",
      "2025-01-07 15:34:29,049 [INFO] Collection is still creating, waiting 60 seconds...\n",
      "............................................................\n",
      "2025-01-07 15:35:29,380 [INFO] Collection is still creating, waiting 60 seconds...\n",
      "............................................................\n",
      "2025-01-07 15:36:29,729 [INFO] Collection is active\n",
      "2025-01-07 15:36:30,310 [INFO] Successfully attached AOSS policy to octank-financial-kb-ue1-533-execution-role\n",
      "2025-01-07 15:36:30,312 [INFO] Sleeping 60 seconds to allow AOSS policy to propagate\n",
      "............................................................\n",
      "2025-01-07 15:37:30,772 [INFO] ================================================================\n",
      "2025-01-07 15:37:30,774 [INFO] Step 5: Initialize OpenSearch client and create index\n",
      "2025-01-07 15:37:30,777 [INFO] Initialized OpenSearch client\n",
      "2025-01-07 15:37:30,778 [INFO] Creating index: inancial-kb-ue1-533-vector-store-index\n",
      "2025-01-07 15:37:31,496 [INFO] Create index response: {'acknowledged': True, 'shards_acknowledged': True, 'index': 'inancial-kb-ue1-533-vector-store-index'}\n",
      "............................................................\n",
      "2025-01-07 15:38:31,778 [INFO] ================================================================\n",
      "2025-01-07 15:38:31,781 [INFO] Step 6: Create Bedrock KB and data source\n",
      "2025-01-07 15:38:31,783 [INFO] Creating Bedrock Knowledge Base: octank-financial-kb\n",
      "2025-01-07 15:38:31,786 [INFO] Building config for OpenSearch Serverless with arn:aws:aoss:us-east-1:533267284022:collection/n84fvhw3t8j3z84earse, inancial-kb-ue1-533-vector-store-index\n",
      "2025-01-07 15:38:33,153 [INFO] Created KB: {'createdAt': datetime.datetime(2025, 1, 7, 23, 38, 32, 265843, tzinfo=tzutc()), 'description': 'Knowledge Base containing sample synthetic Octank financial data', 'knowledgeBaseArn': 'arn:aws:bedrock:us-east-1:533267284022:knowledge-base/892DWWRLXW', 'knowledgeBaseConfiguration': {'type': 'VECTOR', 'vectorKnowledgeBaseConfiguration': {'embeddingModelArn': 'arn:aws:bedrock:us-east-1::foundation-model/amazon.titan-embed-text-v2:0'}}, 'knowledgeBaseId': '892DWWRLXW', 'name': 'octank-financial-kb', 'roleArn': 'arn:aws:iam::533267284022:role/octank-financial-kb-ue1-533-execution-role', 'status': 'CREATING', 'storageConfiguration': {'opensearchServerlessConfiguration': {'collectionArn': 'arn:aws:aoss:us-east-1:533267284022:collection/n84fvhw3t8j3z84earse', 'fieldMapping': {'metadataField': 'text-metadata', 'textField': 'text', 'vectorField': 'vector'}, 'vectorIndexName': 'inancial-kb-ue1-533-vector-store-index'}, 'type': 'OPENSEARCH_SERVERLESS'}, 'updatedAt': datetime.datetime(2025, 1, 7, 23, 38, 32, 265843, tzinfo=tzutc())}\n",
      "2025-01-07 15:38:33,309 [INFO] Created data source: {'createdAt': datetime.datetime(2025, 1, 7, 23, 38, 33, 357974, tzinfo=tzutc()), 'dataDeletionPolicy': 'RETAIN', 'dataSourceConfiguration': {'s3Configuration': {'bucketArn': 'arn:aws:s3:::octank-financial-kb-ue1-533-bucket'}, 'type': 'S3'}, 'dataSourceId': 'NE9VZUTTUX', 'description': 'Knowledge Base containing sample synthetic Octank financial data', 'knowledgeBaseId': '892DWWRLXW', 'name': 'octank-financial-kb', 'status': 'AVAILABLE', 'updatedAt': datetime.datetime(2025, 1, 7, 23, 38, 33, 357974, tzinfo=tzutc()), 'vectorIngestionConfiguration': {'chunkingConfiguration': {'chunkingStrategy': 'FIXED_SIZE', 'fixedSizeChunkingConfiguration': {'maxTokens': 512, 'overlapPercentage': 20}}}}\n",
      "2025-01-07 15:38:33,309 [INFO] ================================================================\n",
      "2025-01-07 15:38:33,310 [INFO] KB created successfully! KB ID: 892DWWRLXW, DS ID: NE9VZUTTUX\n"
     ]
    }
   ],
   "source": [
    "kb_name = 'octank-financial-kb'\n",
    "vector_store = 'OPENSEARCH_SERVERLESS'\n",
    "embedding_model = 'amazon.titan-embed-text-v2:0'\n",
    "\n",
    "kb_id, ds_id, bucket_name = kb.create_knowledge_base(\n",
    "    kb_name=kb_name, \n",
    "    kb_description='Knowledge Base containing sample synthetic Octank financial data',\n",
    "    vector_store=vector_store,\n",
    "    embedding_model=embedding_model,\n",
    "    suffix=suffix\n",
    ")"
   ]
  },
  {
   "cell_type": "code",
   "execution_count": 20,
   "metadata": {},
   "outputs": [
    {
     "name": "stdout",
     "output_type": "stream",
     "text": [
      "Knowledge base ID: 892DWWRLXW, Data source ID: NE9VZUTTUX, Bucket name: octank-financial-kb-ue1-533-bucket\n"
     ]
    }
   ],
   "source": [
    "print(f\"Knowledge base ID: {kb_id}, Data source ID: {ds_id}, Bucket name: {bucket_name}\")"
   ]
  },
  {
   "cell_type": "code",
   "execution_count": 21,
   "metadata": {},
   "outputs": [],
   "source": [
    "# Delete the Knowledge Base and all assoicated resources based on kb name and suffix\n",
    "# kb.delete_knowledge_base_resources_by_name(kb_name=kb_name, suffix=suffix)"
   ]
  },
  {
   "cell_type": "markdown",
   "metadata": {},
   "source": [
    "### Upload KB documents to S3  "
   ]
  },
  {
   "cell_type": "code",
   "execution_count": 22,
   "metadata": {},
   "outputs": [
    {
     "name": "stdout",
     "output_type": "stream",
     "text": [
      "Uploading kb_documents/octank_financial_10K.pdf to octank-financial-kb-ue1-533-bucket\n"
     ]
    }
   ],
   "source": [
    "def upload_documents_to_s3(bucket_name, folder_path):\n",
    "    s3_client = boto3.client('s3', region_name=region)\n",
    "    for root, dirs, files in os.walk(folder_path):\n",
    "        for file in files:\n",
    "            file_path = os.path.join(root, file)\n",
    "            if file not in [\"LICENSE\", \"NOTICE\", \"README.md\"]:\n",
    "                print(f\"Uploading {file_path} to {bucket_name}\")\n",
    "                s3_client.upload_file(file_path, bucket_name, file)\n",
    "            else:\n",
    "                print(f\"Skipping {file_path}\")\n",
    "\n",
    "# Example usage\n",
    "upload_documents_to_s3(bucket_name, \"kb_documents\")"
   ]
  },
  {
   "cell_type": "markdown",
   "metadata": {},
   "source": [
    "### Initiate Knowledge Base Data Ingestion "
   ]
  },
  {
   "cell_type": "code",
   "execution_count": 23,
   "metadata": {},
   "outputs": [
    {
     "name": "stdout",
     "output_type": "stream",
     "text": [
      "2025-01-07 15:42:28,828 [INFO] Starting data synchronization for KB ID: 892DWWRLXW and DS ID: NE9VZUTTUX\n",
      "2025-01-07 15:42:31,662 [INFO] Started ingestion job: {'dataSourceId': 'NE9VZUTTUX', 'ingestionJobId': 'A9LOUWC7N9', 'knowledgeBaseId': '892DWWRLXW', 'startedAt': datetime.datetime(2025, 1, 7, 23, 42, 31, 703354, tzinfo=tzutc()), 'statistics': {'numberOfDocumentsDeleted': 0, 'numberOfDocumentsFailed': 0, 'numberOfDocumentsScanned': 0, 'numberOfMetadataDocumentsModified': 0, 'numberOfMetadataDocumentsScanned': 0, 'numberOfModifiedDocumentsIndexed': 0, 'numberOfNewDocumentsIndexed': 0}, 'status': 'STARTING', 'updatedAt': datetime.datetime(2025, 1, 7, 23, 42, 31, 703354, tzinfo=tzutc())}\n",
      "2025-01-07 15:42:31,800 [INFO] Ingestion job status: STARTING\n",
      ".....\n",
      "2025-01-07 15:42:36,961 [INFO] Ingestion job status: COMPLETE\n",
      ".....\n",
      "2025-01-07 15:42:41,982 [INFO] Final ingestion job status: COMPLETE\n",
      "2025-01-07 15:42:41,986 [INFO] Here are the job details:{\n",
      "  \"dataSourceId\": \"NE9VZUTTUX\",\n",
      "  \"ingestionJobId\": \"A9LOUWC7N9\",\n",
      "  \"knowledgeBaseId\": \"892DWWRLXW\",\n",
      "  \"startedAt\": \"2025-01-07T23:42:31.703354+00:00\",\n",
      "  \"statistics\": {\n",
      "    \"numberOfDocumentsDeleted\": 0,\n",
      "    \"numberOfDocumentsFailed\": 0,\n",
      "    \"numberOfDocumentsScanned\": 1,\n",
      "    \"numberOfMetadataDocumentsModified\": 0,\n",
      "    \"numberOfMetadataDocumentsScanned\": 0,\n",
      "    \"numberOfModifiedDocumentsIndexed\": 0,\n",
      "    \"numberOfNewDocumentsIndexed\": 0\n",
      "  },\n",
      "  \"status\": \"COMPLETE\",\n",
      "  \"updatedAt\": \"2025-01-07T23:42:34.805611+00:00\"\n",
      "}\n"
     ]
    }
   ],
   "source": [
    "kb.synchronize_data(kb_id=kb_id, ds_id=ds_id)"
   ]
  },
  {
   "cell_type": "markdown",
   "metadata": {},
   "source": [
    "## Generate response using KB's `RetrieveAndGenerate` API"
   ]
  },
  {
   "cell_type": "code",
   "execution_count": 9,
   "metadata": {},
   "outputs": [],
   "source": [
    "user_query = \"What is the total cost of Octank Financial's property and equipment as of December 31, 2022?\""
   ]
  },
  {
   "cell_type": "code",
   "execution_count": 10,
   "metadata": {},
   "outputs": [],
   "source": [
    "def retrieve_from_knowledge_base(knowledge_base_id, query, number_of_results=3):\n",
    "    response = bedrock_agent_runtime_client.retrieve(\n",
    "        knowledgeBaseId=knowledge_base_id,\n",
    "        retrievalQuery={\"text\": query},\n",
    "        retrievalConfiguration={\n",
    "            \"vectorSearchConfiguration\": {\n",
    "                \"numberOfResults\": number_of_results\n",
    "            }\n",
    "        }\n",
    "    )\n",
    "    return response['retrievalResults']"
   ]
  },
  {
   "cell_type": "code",
   "execution_count": 11,
   "metadata": {},
   "outputs": [],
   "source": [
    "system_prompt = \"\"\"Human: You are a versatile AI assistant. Your task is to combine the provided context with your general knowledge to deliver accurate, well-sourced information and solutions to questions across various domains. Use the context and your general expertise to answer user queries effectively.\n",
    "\n",
    "Here is the context and user's question:\n",
    "<context>\n",
    "$search_results$\n",
    "</context>\n",
    "\n",
    "<question>\n",
    "$query$\n",
    "</question>\n",
    "\n",
    "Your role is to leverage both your general expertise and context-based knowledge to provide accurate, relevant, and up-to-date information. Follow these guidelines in your responses:\n",
    "1. Maintain a professional yet friendly tone.\n",
    "2. Use clear, straightforward language.\n",
    "3. Focus on practical, actionable solutions.\n",
    "4. Structure responses logically and concisely.\n",
    "5. Break down complex concepts simply.\n",
    "6. Stay relevant to user queries.\n",
    "7. Avoid unnecessary information.\n",
    "8. Ensure a natural conversation flow.\n",
    "9. Use available information before asking questions.\n",
    "10. Do not directly quote or mention that the information is from the context.\n",
    "\n",
    "Assistant:\n",
    "\"\"\"\n"
   ]
  },
  {
   "cell_type": "code",
   "execution_count": 12,
   "metadata": {},
   "outputs": [],
   "source": [
    "def retrieve_and_generate_from_kb(query, kb_id, num_results=5, prompt_template=None, model_id=\"anthropic.claude-v2\", region=\"us-east-1\"):\n",
    "    \"\"\"\n",
    "    Retrieves information from a knowledge base and generates a response using Amazon Bedrock.\n",
    "    \n",
    "    Args:\n",
    "        query (str): The input query text\n",
    "        kb_id (str): The knowledge base ID\n",
    "        num_results (int, optional): Number of results to retrieve. Defaults to 5.\n",
    "        prompt_template (str, optional): Custom prompt template for generation. Defaults to None.\n",
    "        model_id (str, optional): Foundation model ID. Defaults to \"anthropic.claude-v2\".\n",
    "        region (str, optional): AWS region. Defaults to \"us-east-1\".\n",
    "    \n",
    "    Returns:\n",
    "        str: The generated response text\n",
    "        \n",
    "    Raises:\n",
    "        Exception: If there's an error during the retrieve and generate operation\n",
    "    \"\"\"\n",
    "    try:\n",
    "        # Construct the base configuration\n",
    "        config = {\n",
    "            'knowledgeBaseId': kb_id,\n",
    "            'modelArn': f'arn:aws:bedrock:{region}::foundation-model/{model_id}',\n",
    "            'retrievalConfiguration': {\n",
    "                'vectorSearchConfiguration': {\n",
    "                    'numberOfResults': num_results,\n",
    "                    'overrideSearchType': 'SEMANTIC'\n",
    "                }\n",
    "            }\n",
    "        }\n",
    "        \n",
    "        # Add prompt template if provided\n",
    "        if prompt_template:\n",
    "            config['generationConfiguration'] = {\n",
    "                'promptTemplate': {\n",
    "                    'textPromptTemplate': prompt_template\n",
    "                }\n",
    "            }\n",
    "            \n",
    "        response = bedrock_agent_runtime_client.retrieve_and_generate(\n",
    "            input={\n",
    "                'text': query\n",
    "            },\n",
    "            retrieveAndGenerateConfiguration={\n",
    "                'type': 'KNOWLEDGE_BASE',\n",
    "                'knowledgeBaseConfiguration': config\n",
    "            }\n",
    "        )\n",
    "        \n",
    "        return response['output']['text']\n",
    "    \n",
    "    except Exception as e:\n",
    "        print(f\"Error during retrieve and generate operation: {str(e)}\")\n",
    "        raise"
   ]
  },
  {
   "cell_type": "code",
   "execution_count": 13,
   "metadata": {},
   "outputs": [
    {
     "data": {
      "text/markdown": [
       "According to the table provided in the notes to Octank Financial's consolidated financial statements, the total cost of the company's property and equipment as of December 31, 2022 is $440,000,000. This amount represents the sum of the costs across various asset classes, including land ($50,000,000), buildings ($200,000,000), machinery and equipment ($150,000,000), furniture and fixtures ($20,000,000), and vehicles ($15,000,000).\n",
       "\n",
       "It's important to note that the total cost does not reflect the accumulated depreciation or the net book value of these assets. The net book value, which considers the impact of depreciation, is reported as $307,500,000 in the table. The cost figure represents the original acquisition cost or construction cost of these long-lived assets before any depreciation has been applied."
      ],
      "text/plain": [
       "<IPython.core.display.Markdown object>"
      ]
     },
     "metadata": {},
     "output_type": "display_data"
    }
   ],
   "source": [
    "response_text = retrieve_and_generate_from_kb(\n",
    "    kb_id=kb_id,\n",
    "    query=user_query,\n",
    "    region=\"us-east-1\",\n",
    "    num_results=5,\n",
    "    prompt_template=system_prompt,\n",
    "    model_id=\"anthropic.claude-3-sonnet-20240229-v1:0\"\n",
    ")\n",
    "\n",
    "print_markdown(response_text)\n"
   ]
  },
  {
   "cell_type": "code",
   "execution_count": 14,
   "metadata": {},
   "outputs": [
    {
     "data": {
      "text/markdown": [
       "The net book value of each asset class is calculated by taking the original cost of the asset and subtracting the accumulated depreciation from it.\n",
       "\n",
       "To break it down:\n",
       "\n",
       "Cost - This is the original purchase price or cost to acquire the asset.\n",
       "\n",
       "Accumulated Depreciation - This is the total amount of depreciation expense that has been recorded for the asset since it was put into service. Depreciation is the systematic allocation of the cost of an asset over its estimated useful life.\n",
       "\n",
       "Net Book Value = Cost - Accumulated Depreciation\n",
       "\n",
       "For example, let's look at the Buildings asset class from the table:\n",
       "\n",
       "Cost: $200,000,000\n",
       "Accumulated Depreciation: $40,000,000\n",
       "\n",
       "Net Book Value = $200,000,000 - $40,000,000 = $160,000,000\n",
       "\n",
       "So the net book value of the Buildings is $160,000,000. This represents the remaining cost of the buildings that has not yet been depreciated.\n",
       "\n",
       "The net book value calculation is done for each asset class to show the remaining undepreciated cost that can provide future economic benefits to the company over the assets' useful lives."
      ],
      "text/plain": [
       "<IPython.core.display.Markdown object>"
      ]
     },
     "metadata": {},
     "output_type": "display_data"
    }
   ],
   "source": [
    "user_query = \"How is the net book value of each asset class calculated?\"\n",
    "\n",
    "response_text = retrieve_and_generate_from_kb(\n",
    "    kb_id=kb_id,\n",
    "    query=user_query,\n",
    "    region=\"us-east-1\",\n",
    "    num_results=5,\n",
    "    prompt_template=system_prompt,\n",
    "    model_id=\"anthropic.claude-3-sonnet-20240229-v1:0\"\n",
    ")\n",
    "\n",
    "print_markdown(response_text)\n"
   ]
  },
  {
   "cell_type": "markdown",
   "metadata": {},
   "source": [
    "## Create RAG Agent"
   ]
  },
  {
   "cell_type": "code",
   "execution_count": 6,
   "metadata": {},
   "outputs": [],
   "source": [
    "agent_description = \"\"\"You are a versatile AI assistant that combines provided context with general knowledge to deliver accurate, \n",
    "well-sourced information and solutions to questions across various domains.\"\"\"\n",
    "\n",
    "\n",
    "agent_instruction = \"\"\"You are a General AI Assistant helping users with diverse tasks and questions across multiple domains. Your role is to \n",
    "leverage both your general expertise and context-based knowledge retrieved in real-time to provide accurate, relevant, and up-to-date information. You are capable of \n",
    "answering questions with clear explanations on a broad range of topics, including but not limited to technology, science, health, finance, and general knowledge.\n",
    "\n",
    "Response style:\n",
    "1. Maintain a professional yet friendly tone\n",
    "2. Use clear, straightforward language\n",
    "3. Focus on practical, actionable solutions\n",
    "4. Structure responses logically and concisely\n",
    "5. Break down complex concepts simply\n",
    "6. Stay relevant to user queries\n",
    "7. Avoid unnecessary information\n",
    "8. Ensure a natural conversation flow\n",
    "9. Use available information before asking questions\n",
    "10. Do not directly quote or mention that the information is from the context.\"\"\"\n"
   ]
  },
  {
   "cell_type": "code",
   "execution_count": 9,
   "metadata": {},
   "outputs": [
    {
     "name": "stdout",
     "output_type": "stream",
     "text": [
      "Agent name: rag-agent-ue1-533\n"
     ]
    }
   ],
   "source": [
    "agent_name=f'rag-agent-{suffix}'\n",
    "print('Agent name:', agent_name)\n",
    "\n",
    "kb_id = \"892DWWRLXW\""
   ]
  },
  {
   "cell_type": "code",
   "execution_count": 10,
   "metadata": {},
   "outputs": [
    {
     "name": "stdout",
     "output_type": "stream",
     "text": [
      "2025-01-07 15:55:10,277 [INFO] Creating IAM role: rag-agent-ue1-533-exec-role\n",
      "2025-01-07 15:55:10,431 [INFO] Created IAM role: arn:aws:iam::533267284022:role/rag-agent-ue1-533-exec-role\n",
      "2025-01-07 15:55:15,696 [INFO] Created managed policy: arn:aws:iam::533267284022:policy/rag-agent-ue1-533-AmazonBedrockAgentModelAccessPolicy\n",
      "2025-01-07 15:55:15,883 [INFO] Attached policy 'rag-agent-ue1-533-AmazonBedrockAgentModelAccessPolicy' to role 'rag-agent-ue1-533-exec-role'\n",
      "2025-01-07 15:55:16,059 [INFO] Created agent: XNSPVCAHBV\n",
      "2025-01-07 15:55:31,073 [INFO] Updating policy 'rag-agent-ue1-533-AmazonBedrockAgentKBAccessPolicy' for role 'arn:aws:iam::533267284022:role/rag-agent-ue1-533-exec-role'\n",
      "2025-01-07 15:55:31,356 [INFO] Created new policy: rag-agent-ue1-533-AmazonBedrockAgentKBAccessPolicy\n",
      "2025-01-07 15:55:31,534 [INFO] Attached policy 'rag-agent-ue1-533-AmazonBedrockAgentKBAccessPolicy' to role 'rag-agent-ue1-533-exec-role'\n",
      "2025-01-07 15:55:31,536 [INFO] Associating agent 'XNSPVCAHBV' with knowledge base '892DWWRLXW'\n",
      "2025-01-07 15:55:31,768 [INFO] Associated agent 'XNSPVCAHBV' with KB '892DWWRLXW'\n",
      "2025-01-07 15:55:31,769 [INFO] Response: {'ResponseMetadata': {'RequestId': 'e1ffc5e6-d2bc-476b-85d3-f54c5eb28d47', 'HTTPStatusCode': 200, 'HTTPHeaders': {'date': 'Tue, 07 Jan 2025 23:55:31 GMT', 'content-type': 'application/json', 'content-length': '266', 'connection': 'keep-alive', 'x-amzn-requestid': 'e1ffc5e6-d2bc-476b-85d3-f54c5eb28d47', 'x-amz-apigw-id': 'ECrGJHZJoAMEFGg=', 'x-amzn-trace-id': 'Root=1-677dbef3-15142c1e3acbe735177f2585'}, 'RetryAttempts': 0}, 'agentKnowledgeBase': {'createdAt': datetime.datetime(2025, 1, 7, 23, 55, 31, 799609, tzinfo=tzutc()), 'description': 'Use this knowledge base to provide responses to user queries on any topic', 'knowledgeBaseId': '892DWWRLXW', 'knowledgeBaseState': 'ENABLED', 'updatedAt': datetime.datetime(2025, 1, 7, 23, 55, 31, 799609, tzinfo=tzutc())}}\n",
      "2025-01-07 15:55:31,958 [INFO] Agent 'XNSPVCAHBV' is prepared for invocation: {'ResponseMetadata': {'RequestId': '3b2b82f0-133a-474b-9382-e4d4471c7014', 'HTTPStatusCode': 202, 'HTTPHeaders': {'date': 'Tue, 07 Jan 2025 23:55:32 GMT', 'content-type': 'application/json', 'content-length': '119', 'connection': 'keep-alive', 'x-amzn-requestid': '3b2b82f0-133a-474b-9382-e4d4471c7014', 'x-amz-apigw-id': 'ECrGLEgcIAMEMMg=', 'x-amzn-trace-id': 'Root=1-677dbef3-125616f67eae43b23c1841c4'}, 'RetryAttempts': 0}, 'agentId': 'XNSPVCAHBV', 'agentStatus': 'PREPARING', 'agentVersion': 'DRAFT', 'preparedAt': datetime.datetime(2025, 1, 7, 23, 55, 32, 16606, tzinfo=tzutc())}\n"
     ]
    }
   ],
   "source": [
    "rag_agent = agents.create_bedrock_agent(\n",
    "    agent_name=agent_name, \n",
    "    agent_description=agent_description,\n",
    "    agent_instructions=agent_instruction,\n",
    "    model_id=\"anthropic.claude-3-sonnet-20240229-v1:0\",\n",
    "    kb_id=kb_id,\n",
    "    associate_kb=True,\n",
    "    kb_usage_description=\"Use this knowledge base to provide responses to user queries on any topic\",\n",
    "    verbose=True\n",
    "    )"
   ]
  },
  {
   "cell_type": "code",
   "execution_count": 7,
   "metadata": {},
   "outputs": [
    {
     "name": "stdout",
     "output_type": "stream",
     "text": [
      "2025-01-07 15:54:29,161 [INFO] Found agent 'rag-agent-ue1-533' with ID: 9PCQTVLUIV\n",
      "2025-01-07 15:54:29,162 [INFO] Deleting aliases for agent 9PCQTVLUIV...\n",
      "2025-01-07 15:54:29,294 [INFO] Deleting alias TSTALIASID from agent 9PCQTVLUIV\n",
      "2025-01-07 15:54:29,437 [INFO] Deleting action groups for agent 9PCQTVLUIV...\n",
      "2025-01-07 15:54:29,561 [INFO] Deleting agent: 9PCQTVLUIV\n",
      ".....\n",
      ".....\n",
      "2025-01-07 15:54:39,823 [INFO] Deleted agent: 9PCQTVLUIV\n",
      "2025-01-07 15:54:39,825 [INFO] Deleting IAM role: rag-agent-ue1-533-exec-role\n",
      "2025-01-07 15:54:41,231 [INFO] Deleted role: rag-agent-ue1-533-exec-role\n"
     ]
    }
   ],
   "source": [
    "# agents.delete_bedrock_agent(agent_name=agent_name, delete_role=True, verbose=True)"
   ]
  },
  {
   "cell_type": "code",
   "execution_count": 11,
   "metadata": {},
   "outputs": [
    {
     "name": "stdout",
     "output_type": "stream",
     "text": [
      "2025-01-07 15:56:11,094 [INFO] Agent 'rag-agent-ue1-533' status: {'agentId': 'XNSPVCAHBV', 'agentName': 'rag-agent-ue1-533', 'agentStatus': 'PREPARING', 'foundationModel': 'anthropic.claude-3-sonnet-20240229-v1:0', 'agentCollaboration': 'DISABLED', 'orchestrationType': 'DEFAULT', 'createdAt': datetime.datetime(2025, 1, 7, 23, 55, 16, 121319, tzinfo=tzutc()), 'lastUpdatedAt': datetime.datetime(2025, 1, 7, 23, 55, 16, 952293, tzinfo=tzutc())}\n",
      "2025-01-07 15:56:11,095 [INFO] Agent preparing... (attempt 1/12)\n",
      ".....\n",
      "2025-01-07 15:56:16,375 [INFO] Agent 'rag-agent-ue1-533' status: {'agentId': 'XNSPVCAHBV', 'agentName': 'rag-agent-ue1-533', 'agentStatus': 'PREPARED', 'foundationModel': 'anthropic.claude-3-sonnet-20240229-v1:0', 'agentCollaboration': 'DISABLED', 'orchestrationType': 'DEFAULT', 'createdAt': datetime.datetime(2025, 1, 7, 23, 55, 16, 121319, tzinfo=tzutc()), 'lastUpdatedAt': datetime.datetime(2025, 1, 7, 23, 55, 16, 952293, tzinfo=tzutc())}\n",
      "2025-01-07 15:56:16,376 [INFO] Agent rag-agent-ue1-533 is now prepared\n"
     ]
    }
   ],
   "source": [
    "agents.prepare_bedrock_agent(agent_name=agent_name, verbose=True)"
   ]
  },
  {
   "cell_type": "code",
   "execution_count": 12,
   "metadata": {},
   "outputs": [
    {
     "name": "stdout",
     "output_type": "stream",
     "text": [
      "2025-01-07 15:56:24,395 [INFO] Invoking agent 'rag-agent-ue1-533' with input: What is the total cost of Octank Financial's property and equipment as of December 31, 2022?\n",
      "\u001b[32m---- Step 1 ----\u001b[0m\n",
      "\u001b[33mTook 3.0s, using 3251 tokens (in: 3145, out: 106) to complete action.\u001b[0m\n",
      "\u001b[36mFinal response:\n",
      "According to the table for Property and Equipment, Net under NOTES TO CONSOLIDATED FINANCIAL STATEMENTS, the total cost of Octank Financial's property and equipment as of December 31, 2022 is $440,000,000....\u001b[0m\n",
      "\u001b[33mAgent made a total of 1 LLM calls, using 3251 tokens (in: 3145, out: 106), and took 3.5 total seconds.\u001b[0m\n"
     ]
    }
   ],
   "source": [
    "user_query = \"What is the total cost of Octank Financial's property and equipment as of December 31, 2022?\"\n",
    "\n",
    "result = agents.invoke(\n",
    "    agent_name=agent_name, \n",
    "    input_text=user_query, \n",
    "    verbose=True, \n",
    "    trace_level='core',\n",
    "    save_trace_json_file='agent_full_trace.json'\n",
    ")"
   ]
  },
  {
   "cell_type": "code",
   "execution_count": 14,
   "metadata": {},
   "outputs": [
    {
     "data": {
      "text/markdown": [
       "According to the table for Property and Equipment, Net under NOTES TO CONSOLIDATED FINANCIAL STATEMENTS, the total cost of Octank Financial's property and equipment as of December 31, 2022 is $440,000,000."
      ],
      "text/plain": [
       "<IPython.core.display.Markdown object>"
      ]
     },
     "metadata": {},
     "output_type": "display_data"
    }
   ],
   "source": [
    "print_markdown(result['response'])"
   ]
  },
  {
   "cell_type": "code",
   "execution_count": 15,
   "metadata": {},
   "outputs": [
    {
     "data": {
      "text/plain": [
       "<botocore.eventstream.EventStream at 0x115535a80>"
      ]
     },
     "execution_count": 15,
     "metadata": {},
     "output_type": "execute_result"
    }
   ],
   "source": [
    "result['trace']"
   ]
  },
  {
   "cell_type": "code",
   "execution_count": null,
   "metadata": {},
   "outputs": [],
   "source": []
  }
 ],
 "metadata": {
  "kernelspec": {
   "display_name": "aws_p3.10",
   "language": "python",
   "name": "python3"
  },
  "language_info": {
   "codemirror_mode": {
    "name": "ipython",
    "version": 3
   },
   "file_extension": ".py",
   "mimetype": "text/x-python",
   "name": "python",
   "nbconvert_exporter": "python",
   "pygments_lexer": "ipython3",
   "version": "3.10.14"
  }
 },
 "nbformat": 4,
 "nbformat_minor": 2
}
